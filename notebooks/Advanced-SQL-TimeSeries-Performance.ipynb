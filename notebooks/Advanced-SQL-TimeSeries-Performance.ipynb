{
 "cells": [
  {
   "cell_type": "markdown",
   "metadata": {
    "deletable": true,
    "editable": true
   },
   "source": [
    "# Benchmarking IBM Db2 Event Store's Time Series Performance in Consecutive Duplication Removal"
   ]
  },
  {
   "cell_type": "markdown",
   "metadata": {
    "deletable": true,
    "editable": true
   },
   "source": [
    "## Abstract\n",
    "This notebook contains a simple benchmark comparison in the performance of consecutive duplication removal between IBM Event Store's time series function and naive approach.\n",
    "\n",
    "## Procedure\n",
    "- A simple table is created with records containing a monotonically increasing timestamp. \n",
    "- Dataframe is created, repartitioned, and cached. Same cached dataframe is used both in Event Store time series and naive approach so that to eliminate the effect of data fetching time on the time series query performance measurement.\n",
    "- Consecutive duplication removal performance is measured with IBM Db2 Event Store's time series function\n",
    "    - Performance is first measured when time series is created in years.\n",
    "    - Performance is then measured when the time series is created in dates.\n",
    "- Consecutive duplication removal performance is measured with the naive approach.\n",
    "- Comparison and interpretation are concluded."
   ]
  },
  {
   "cell_type": "code",
   "execution_count": null,
   "metadata": {
    "collapsed": false,
    "deletable": true,
    "editable": true
   },
   "outputs": [],
   "source": [
    "# show current Spark application ID\n",
    "sc.applicationId"
   ]
  },
  {
   "cell_type": "code",
   "execution_count": null,
   "metadata": {
    "collapsed": true,
    "deletable": true,
    "editable": true
   },
   "outputs": [],
   "source": [
    "from eventstore.oltp import EventContext\n",
    "from eventstore.sql import EventSession\n",
    "from eventstore.common import ConfigurationReader\n",
    "from pyspark.sql import SparkSession\n",
    "\n",
    "ConfigurationReader.setEventUser(\"admin\")\n",
    "ConfigurationReader.setEventPassword(\"password\")"
   ]
  },
  {
   "cell_type": "code",
   "execution_count": null,
   "metadata": {
    "collapsed": false,
    "deletable": true,
    "editable": true
   },
   "outputs": [],
   "source": [
    "sparkSession = SparkSession.builder.appName(\"EventStore SQL in Python\").getOrCreate()\n",
    "eventSession = EventSession(sparkSession.sparkContext, \"EVENTDB\")\n",
    "eventSession.set_query_read_option(\"SnapshotNow\")\n",
    "eventSession._jvm.org.apache.spark.sql.types.SqlTimeSeries.register(eventSession._jsparkSession)\n",
    "eventSession.open_database()\n",
    "ctx = EventContext.get_event_context(\"EVENTDB\")"
   ]
  },
  {
   "cell_type": "code",
   "execution_count": null,
   "metadata": {
    "collapsed": true,
    "deletable": true,
    "editable": true
   },
   "outputs": [],
   "source": [
    "from eventstore.catalog import TableSchema\n",
    "from pyspark.sql.types import *"
   ]
  },
  {
   "cell_type": "markdown",
   "metadata": {
    "deletable": true,
    "editable": true
   },
   "source": [
    "### Part 1: Function preparation"
   ]
  },
  {
   "cell_type": "code",
   "execution_count": null,
   "metadata": {
    "collapsed": true,
    "deletable": true,
    "editable": true
   },
   "outputs": [],
   "source": [
    "def duplication_stats(L0_sdf, es_session):\n",
    "    \"\"\"\n",
    "    This function is rewritten based on the naive_on_change. The function will calculate and print follwoing info:\\\n",
    "    - total number of rows\n",
    "    - total number of duplications (count of record with duplicated readings in consecutive timestamps\n",
    "      , except for the ealirst record in each consecutive duplicated records)\n",
    "    - percentage of duplicated records to be removed\n",
    "    - Expected number of rows/records after duplication removal\n",
    "    ---\n",
    "    @param: L0_sdf: Spark Dataframe : Dataframe whose duplication statistics will be calculated\n",
    "    @param: es_session: EventSession to be used\n",
    "    @return: int : expected row count after duplication removal\n",
    "    ---\n",
    "    Example:\n",
    "    # duplication stats should be same for granularity of years/dates\n",
    "    duplication_stats(raw_table_with_dates, eventSession)\n",
    "    Return:\n",
    "            Total number of rows: 9999990\n",
    "            Total number of duplications: 999502\n",
    "            Duplication percentage: 0.09995029995029996\n",
    "            Expected row number after processing: 9000488\n",
    "    \"\"\"\n",
    "    from pyspark.sql import Window\n",
    "    from pyspark.sql.functions import lag\n",
    "    \n",
    "    # We will use current time to build the temp views names\n",
    "    def tabletag():\n",
    "        from time import time\n",
    "        return 'TABLE'+str(int(time()*1000000))\n",
    "    \n",
    "    # Time sort\n",
    "    L1_sdf = L0_sdf.orderBy('timestamp')\n",
    "    L0_sortedTable = tabletag()\n",
    "    L1_sdf.createOrReplaceTempView(L0_sortedTable)\n",
    "    \n",
    "    # Keep first record\n",
    "    L1_first_sdf = es_session.sql('SELECT timestamp, value FROM ' + L0_sortedTable + ' LIMIT 1')\n",
    "    \n",
    "    # Prepare lag program\n",
    "    eng_col = L1_sdf['value']\n",
    "    lag_eng = lag(eng_col).over(Window.orderBy('timestamp'))\n",
    "    L1_sdf = L1_sdf.withColumn('prev_value', lag_eng)\n",
    "    \n",
    "    # Prepare diff program\n",
    "    prev_eng_col = L1_sdf['prev_value']\n",
    "    L1_sdf = L1_sdf.withColumn('diff_value', eng_col - prev_eng_col)\n",
    "    \n",
    "    # Prepare on-change filter program\n",
    "    diff_eng_col = L1_sdf['diff_value']    \n",
    "    L1_count = L1_sdf.count()\n",
    "    L1_dup_count = L1_sdf.filter(diff_eng_col == 0).count()\n",
    "    L1_dup_percent = L1_dup_count / L1_count\n",
    "    L1_unique_count= L1_count - L1_dup_count\n",
    "    print(\"Total number of rows: {}\".format(L1_count))\n",
    "    print(\"Total number of duplications: {}\".format(L1_dup_count))\n",
    "    print(\"Duplication percentage: {}\".format(L1_dup_percent))\n",
    "    print(\"Expected row number after processing: {}\".format(L1_unique_count))\n",
    "    return L1_unique_count"
   ]
  },
  {
   "cell_type": "markdown",
   "metadata": {
    "deletable": true,
    "editable": true
   },
   "source": [
    "### Part 2: Data preparation\n",
    "As a proof-of-concept, a simple data is created with 10Million randomly generated data.  \n",
    "```\n",
    "root\n",
    " |-- KEY: integer (nullable = false)\n",
    " |-- TIMESTAMP: long (nullable = false)\n",
    " |-- VALUE: float (nullable = false)\n",
    "```"
   ]
  },
  {
   "cell_type": "code",
   "execution_count": null,
   "metadata": {
    "collapsed": true,
    "deletable": true,
    "editable": true
   },
   "outputs": [],
   "source": [
    "num_records = 10000000\n",
    "table_name = \"t\" + str(num_records)"
   ]
  },
  {
   "cell_type": "code",
   "execution_count": null,
   "metadata": {
    "collapsed": false,
    "deletable": true,
    "editable": true
   },
   "outputs": [],
   "source": [
    "\"\"\"\n",
    "Table creation/ data loading are commented out after the first run.\n",
    "\"\"\"\n",
    "# # Define table schema to be created\n",
    "# with EventContext.get_event_context(\"EVENTDB\") as ctx:\n",
    "#     schema = StructType([\n",
    "#         StructField(\"key\", IntegerType(), nullable = False),\n",
    "#         StructField(\"timestamp\", LongType(), nullable = False),\n",
    "#         StructField(\"value\", FloatType(), nullable = False)\n",
    "#     ])  \n",
    "#     table_schema = TableSchema(table_name, schema,\n",
    "#                                 sharding_columns=[\"key\"],\n",
    "#                                 pk_columns=[\"key\",\"timestamp\"])"
   ]
  },
  {
   "cell_type": "code",
   "execution_count": null,
   "metadata": {
    "collapsed": false,
    "deletable": true,
    "editable": true,
    "scrolled": true
   },
   "outputs": [],
   "source": [
    "# try:\n",
    "#     ctx.create_table(table_schema)\n",
    "# except Exception as error:\n",
    "#     print(error)\n",
    "#     pass\n",
    "    \n",
    "# table_names = ctx.get_names_of_tables()\n",
    "# for idx, name in enumerate(table_names):\n",
    "#     print(name)"
   ]
  },
  {
   "cell_type": "code",
   "execution_count": null,
   "metadata": {
    "collapsed": true,
    "deletable": true,
    "editable": true
   },
   "outputs": [],
   "source": [
    "# table = eventSession.load_event_table(table_name)"
   ]
  },
  {
   "cell_type": "code",
   "execution_count": null,
   "metadata": {
    "collapsed": false,
    "deletable": true,
    "editable": true
   },
   "outputs": [],
   "source": [
    "# ingest data into table\n",
    "# import os\n",
    "# resolved_table_schema = ctx.get_table(table_name)\n",
    "# print(resolved_table_schema)\n",
    "# for letter in list([\"a\",\"b\",\"c\",\"d\",\"e\",\"f\",\"g\",\"h\",\"i\",\"j\"]):\n",
    "#     with open(os.environ['DSX_PROJECT_DIR']+'/datasets/csv_10000000_realtime_xa'+letter+'.csv') as f:\n",
    "#         f.readline()\n",
    "#         content = f.readlines()\n",
    "#         content = [l.split(\",\") for l in content]\n",
    "#         batch = [dict(key=int(c[0]), timestamp=int(c[1]), value=float(c[2])) for c in content]\n",
    "#         ctx.batch_insert(resolved_table_schema, batch)"
   ]
  },
  {
   "cell_type": "markdown",
   "metadata": {
    "deletable": true,
    "editable": true
   },
   "source": [
    "### 2.1 Optimize parallelism by repartitioning\n",
    "Note that when the query is pushed down to Db2 Event Store and the data is retrieved, the data will be received by Spark as one single partitioned data frame. It's necessary for the user to explicitly repartition the dataframe.  \n",
    "It's suggested that one partition is created for each CPU core in the Spark cluster.  "
   ]
  },
  {
   "cell_type": "code",
   "execution_count": null,
   "metadata": {
    "collapsed": false,
    "deletable": true,
    "editable": true,
    "scrolled": false
   },
   "outputs": [],
   "source": [
    "# verify ingested result\n",
    "raw_table = eventSession.load_event_table(table_name)\n",
    "\n",
    "print(\"number of partitions prior to time series (after loading table): \",raw_table.rdd.getNumPartitions())\n",
    "print(\"partition sizes prior to time series (after loading table): \", raw_table.rdd.mapPartitions(lambda s: iter([sum(1 for _ in s)])).collect())"
   ]
  },
  {
   "cell_type": "code",
   "execution_count": null,
   "metadata": {
    "collapsed": false,
    "deletable": true,
    "editable": true
   },
   "outputs": [],
   "source": [
    "\"\"\"\n",
    "repartition the dataframe into 48 partitions (16 cores/node * 3 nodes = 48 partitions)\n",
    "\"\"\"\n",
    "raw_table_after_partition = raw_table.repartition(48)\n",
    "\n",
    "print(\"number of partitions prior to time series (after loading table): \",raw_table_after_partition.rdd.getNumPartitions())\n",
    "print(\"partition sizes prior to time series (after loading table): \", raw_table_after_partition.rdd.mapPartitions(lambda s: iter([sum(1 for _ in s)])).collect())"
   ]
  },
  {
   "cell_type": "code",
   "execution_count": null,
   "metadata": {
    "collapsed": false,
    "deletable": true,
    "editable": true
   },
   "outputs": [],
   "source": [
    "raw_table_after_partition.createOrReplaceTempView(\"raw_table_partitioned\")"
   ]
  },
  {
   "cell_type": "markdown",
   "metadata": {
    "deletable": true,
    "editable": true
   },
   "source": [
    "### 2.2 Generating new clustering key for time series creation\n",
    "\n",
    "Records will be clustered into certain ranges, such as years or dates, and time series will be created on each such clustered ranges or record.  \n",
    "Consecutive duplication removal will happen on each time series, which dramatically increase the computational parallelism and reduces computation time.  \n",
    "\n",
    "There are some subtle differences that worth noticing in the clustering granularity:\n",
    "\n",
    "1/ **Performance**\n",
    "\n",
    "In general, performance will increase with smaller clustering granularity when clustering consecutive record to create time series.\n",
    "\n",
    "When the records are clustered in smaller granularity, i.e. dates v.s. years, the number of time series created will be increased.  \n",
    "Duplication removal will be executed concurrently on all-time series, thus the performance is better.  \n",
    "  \n",
    "2/ **Number of remaining duplications**\n",
    "\n",
    "With smaller clustering granularity, more time series will be created, and the number of duplications left over will increase.\n",
    "\n",
    "For example, that grouping by key [day 1] [day 2] … [day n]. If you remove dups on each one, If let's say the last value of day 1 is dup with the first   value of day 2, it will not catch that as dups were removed on a each-time-series basis. Having said that, on a large scale, this will always occur as it   depends on how much data you are querying each time, for instance, if they query 1 day at a time, unless they keep track of the last value in each day every   time they query, for the next time they query, they will also have this issue.\n",
    "</span>"
   ]
  },
  {
   "cell_type": "markdown",
   "metadata": {
    "deletable": true,
    "editable": true
   },
   "source": [
    "---\n",
    "Two dataframes are created with different clustering granularity for performance comparsion:\n",
    "\n",
    "- raw_table_with_years: Clustering key in years\n",
    "\n",
    "- raw_table_with_dates: Clustering key in dates"
   ]
  },
  {
   "cell_type": "code",
   "execution_count": null,
   "metadata": {
    "collapsed": false,
    "deletable": true,
    "editable": true
   },
   "outputs": [],
   "source": [
    "# ts granularity in years\n",
    "raw_table_with_years = eventSession.sql(\"select key, from_unixtime(TIMESTAMP/1000,'YYYY') as key2, TIMESTAMP, value from raw_table_partitioned\").cache()\n",
    "# ts granularity in dates\n",
    "raw_table_with_dates = eventSession.sql(\"select key, from_unixtime(TIMESTAMP/1000,'YYYY-MM-dd') as key2, TIMESTAMP, value from raw_table_partitioned\").cache()"
   ]
  },
  {
   "cell_type": "code",
   "execution_count": null,
   "metadata": {
    "collapsed": false,
    "deletable": true,
    "editable": true,
    "scrolled": false
   },
   "outputs": [],
   "source": [
    "raw_table_with_dates.show(5)"
   ]
  },
  {
   "cell_type": "code",
   "execution_count": null,
   "metadata": {
    "collapsed": false,
    "deletable": true,
    "editable": true
   },
   "outputs": [],
   "source": [
    "raw_table_with_years.show(5)"
   ]
  },
  {
   "cell_type": "markdown",
   "metadata": {
    "deletable": true,
    "editable": true
   },
   "source": [
    "**Show the range of the timestamp**\n",
    "\n",
    "- Notice that the time spans 19 years, representing 7045 days.\n",
    "- Notice that the distinct dates are 6929, which means we have records for almost all dates."
   ]
  },
  {
   "cell_type": "code",
   "execution_count": null,
   "metadata": {
    "collapsed": false,
    "deletable": true,
    "editable": true
   },
   "outputs": [],
   "source": [
    "raw_table_with_dates.agg({\"key2\":\"max\"}).collect()[0]"
   ]
  },
  {
   "cell_type": "code",
   "execution_count": null,
   "metadata": {
    "collapsed": false,
    "deletable": true,
    "editable": true
   },
   "outputs": [],
   "source": [
    "raw_table_with_dates.agg({\"key2\":\"min\"}).collect()[0]"
   ]
  },
  {
   "cell_type": "code",
   "execution_count": null,
   "metadata": {
    "collapsed": false,
    "deletable": true,
    "editable": true
   },
   "outputs": [],
   "source": [
    "raw_table_with_dates.select(\"key2\").distinct().count()"
   ]
  },
  {
   "cell_type": "code",
   "execution_count": null,
   "metadata": {
    "collapsed": false,
    "deletable": true,
    "editable": true
   },
   "outputs": [],
   "source": [
    "# duplication stats should be same for granularity of years/dates\n",
    "\"\"\"\n",
    "Note that there are ~10% of duplicated records that's need to be removed.\n",
    "Expected total number after processing is : 900488\n",
    "\"\"\"\n",
    "expected_row_num = duplication_stats(raw_table_with_dates, eventSession)"
   ]
  },
  {
   "cell_type": "markdown",
   "metadata": {
    "deletable": true,
    "editable": true
   },
   "source": [
    "## Part 3. Performance Analysis\n",
    "### 3.1 IBM Event Store Time Series Performance"
   ]
  },
  {
   "cell_type": "code",
   "execution_count": null,
   "metadata": {
    "collapsed": true,
    "deletable": true,
    "editable": true
   },
   "outputs": [],
   "source": [
    "def create(df, key_col, ts_col, val_col, new_key_name=\"joined_primary_keys\", time_series_name=None):\n",
    "    \"\"\"\n",
    "    Highly efficient algorithm that creates a time series from the Spark Dataframe.\n",
    "    ---\n",
    "    @param df: Spark Dataframe : Containing input columns for time series creation\n",
    "    @key_col: List[String] : List of column name strings of primary key for the time series creation\n",
    "    @ts_col: String : Column name of timestamp\n",
    "    @val_col: String : Column name of value\n",
    "    @new_key_name: String : Column name of the joined primary key column to be created.\n",
    "    @time_series_name: String : [Default: <val_col>_time_series] Column name of the time series column to be created.\n",
    "    return: [Spark Dataframe] Spark df containing 2 columns: key column and time series column\n",
    "    ---\n",
    "    Example:\n",
    "    ts_df = create(raw_table_with_dates, [\"SATID\",\"PKID\",\"DATE\"], \"TIMESTAMP\", \"READING\")\n",
    "    \"\"\"\n",
    "    from pyspark.sql import DataFrame\n",
    "    from pyspark.sql.functions import concat, col, lit\n",
    "    ts_column_name = val_col + \"_time_series\"\n",
    "    df = df.withColumn(new_key_name, concat(*key_col))\n",
    "    ts_df = DataFrame(\n",
    "        df.sql_ctx._jvm.com.ibm.research.time_series.spark_timeseries_sql.utils.api.java.TimeSeriesDataFrame.create(\n",
    "            df._jdf,\n",
    "            new_key_name,\n",
    "            ts_col,\n",
    "            val_col\n",
    "        ),\n",
    "        df.sql_ctx\n",
    "    )\n",
    "    if time_series_name:\n",
    "        ts_df = ts_df.withColumnRenamed(ts_column_name, time_series_name)\n",
    "    return ts_df"
   ]
  },
  {
   "cell_type": "markdown",
   "metadata": {
    "deletable": true,
    "editable": true
   },
   "source": [
    "### 3.1.1 Performance Comparision between SQL UDAF and create function\n",
    "\n",
    "1/ **Spark User Defined Aggregate Function (UDAF) : `TIME_SERIES`**\n",
    "\n",
    "Spark UDAF goes through each row of the dataframe, and creates a new time series by aggregating the previous rows and current row.\n",
    "Because the Spark RDD is immutable, multiple intermediate RDDs will be created.\n",
    "\n",
    "so for instance if you have 3 rows: [1] | [2] | [3], it will look as such [1] … [1] + [2] = [1,2] … [1,2] + [3] = [1,2,3]. Thus 5 intermediate rdds are created: [1] [2] [3] [1,2] [1,2,3].\n",
    "\n",
    "Example: \n",
    "```sql\n",
    "stmt = \"SELECT location, TIME_SERIES(timestamp, humidity) AS ts FROM dht_raw_table where humidity < 70 GROUP BY location\"\n",
    "```\n",
    "\n",
    "2/ **create function:**\n",
    "\n",
    "The create function simply group the given dataframe by key, and create one time series for each key at once. The performance advantage of the create function will be increasingly obvious with the larger dataframe and time series size.\n",
    "\n",
    "Example: \n",
    "```python\n",
    "create(dht_table, [\"location\"], \"timestamp\", \"HUMIDITY\", \"LOCATION\")\n",
    "```\n",
    " \n",
    "\n"
   ]
  },
  {
   "cell_type": "code",
   "execution_count": null,
   "metadata": {
    "collapsed": false,
    "deletable": true,
    "editable": true
   },
   "outputs": [],
   "source": [
    "%%time\n",
    "'''\n",
    "creating ts using create function\n",
    "'''\n",
    "create(raw_table_with_dates, [\"key2\"], \"timestamp\", \"value\", new_key_name=\"key2\").show()"
   ]
  },
  {
   "cell_type": "code",
   "execution_count": null,
   "metadata": {
    "collapsed": false,
    "deletable": true,
    "editable": true
   },
   "outputs": [],
   "source": [
    "raw_table_with_dates.createOrReplaceTempView(\"raw_table_partitioned\")"
   ]
  },
  {
   "cell_type": "code",
   "execution_count": null,
   "metadata": {
    "collapsed": false,
    "deletable": true,
    "editable": true,
    "scrolled": false
   },
   "outputs": [],
   "source": [
    "%%time\n",
    "'''\n",
    "creating ts using Spark UDAF\n",
    "'''\n",
    "\n",
    "stmt = \"\"\"SELECT key2, TIME_SERIES(timestamp, value) AS ts FROM raw_table_partitioned GROUP BY key2\"\"\"\n",
    "\n",
    "eventSession.sql(stmt).show()"
   ]
  },
  {
   "cell_type": "markdown",
   "metadata": {},
   "source": [
    "### 3.1.2 Processing Performance"
   ]
  },
  {
   "cell_type": "markdown",
   "metadata": {
    "deletable": true,
    "editable": true
   },
   "source": [
    "#### Case 1: TS granularity in years"
   ]
  },
  {
   "cell_type": "code",
   "execution_count": null,
   "metadata": {
    "collapsed": false,
    "deletable": true,
    "editable": true
   },
   "outputs": [],
   "source": [
    "%%time\n",
    "import time\n",
    "start = time.time()\n",
    "\n",
    "ts_df = create(raw_table_with_years, [\"key2\"], \"timestamp\", \"value\", new_key_name=\"key2\")\n",
    "ts_df.createOrReplaceTempView(\"ts_table\")\n",
    "# force execution\n",
    "ts_df_unique = eventSession.sql(\"select key2, ts_explode(ts_remove_consecutive_duplicates(value_time_series)) as (time_tick, value) from ts_table\")\n",
    "ts_df_unique.show()\n",
    "end = time.time()\n",
    "print(\"Total processing time is \",end - start, \"seconds\")"
   ]
  },
  {
   "cell_type": "code",
   "execution_count": null,
   "metadata": {
    "collapsed": false,
    "deletable": true,
    "editable": true
   },
   "outputs": [],
   "source": [
    "row_count_after_process = ts_df_unique.count()\n",
    "print(\"Row count after process: \", row_count_after_process)"
   ]
  },
  {
   "cell_type": "code",
   "execution_count": null,
   "metadata": {
    "collapsed": false,
    "deletable": true,
    "editable": true
   },
   "outputs": [],
   "source": [
    "print(\"Number of duplicated record remaining after processing: {}\".format(row_count_after_process- expected_row_num))"
   ]
  },
  {
   "cell_type": "code",
   "execution_count": null,
   "metadata": {
    "collapsed": false,
    "deletable": true,
    "editable": true
   },
   "outputs": [],
   "source": [
    "temp_ts_df = eventSession.sql(\"select key2, ts_count(value_time_series) as c from ts_table\")\n",
    "print(\"number of partitions after time series creation: \",temp_ts_df.rdd.getNumPartitions())\n",
    "print(\"partition sizes after time series creation: \", temp_ts_df.rdd.mapPartitions(lambda s: iter([sum(1 for _ in s)])).collect())"
   ]
  },
  {
   "cell_type": "markdown",
   "metadata": {
    "deletable": true,
    "editable": true
   },
   "source": [
    "#### Case 2: TS granularity in dates\n",
    "\n",
    "When compared with the granularity in years:\n",
    "\n",
    "**Pros:** Reduce the granularity to date will increase the number of time series to be created, leading to better parallelism.\n",
    "\n",
    "**Cons:** Increasing the number of time series will also increase the number of duplications that will retain after duplication removal: when grouping by key [day 1] [day 2] … [day n]. If you remove dups on each one, If let's say the last value of day 1 is dup with the first value of day 2, it will not catch that as dups were removed on a each-time-series basis."
   ]
  },
  {
   "cell_type": "code",
   "execution_count": null,
   "metadata": {
    "collapsed": false,
    "deletable": true,
    "editable": true,
    "scrolled": false
   },
   "outputs": [],
   "source": [
    "%%time\n",
    "import time\n",
    "start = time.time()\n",
    "\n",
    "ts_df = create(raw_table_with_dates, [\"key2\"], \"timestamp\", \"value\",\"key2\")\n",
    "ts_df.createOrReplaceTempView(\"ts_table\")\n",
    "ts_df_unique = eventSession.sql(\"select key2, ts_explode(ts_remove_consecutive_duplicates(value_time_series)) as (time_tick, value) from ts_table\")\n",
    "ts_df_unique.show()\n",
    "end = time.time()\n",
    "print(\"Total processing time: \", end - start, \"seconds\")"
   ]
  },
  {
   "cell_type": "code",
   "execution_count": null,
   "metadata": {
    "collapsed": false,
    "deletable": true,
    "editable": true
   },
   "outputs": [],
   "source": [
    "ts_df.show(5)"
   ]
  },
  {
   "cell_type": "code",
   "execution_count": null,
   "metadata": {
    "collapsed": false,
    "deletable": true,
    "editable": true
   },
   "outputs": [],
   "source": [
    "row_count_after_process = ts_df_unique.count()\n",
    "print(\"Row count after process: \", row_count_after_process)"
   ]
  },
  {
   "cell_type": "code",
   "execution_count": null,
   "metadata": {
    "collapsed": false,
    "deletable": true,
    "editable": true,
    "scrolled": true
   },
   "outputs": [],
   "source": [
    "print(\"Number of duplicated record remaining after processing: {}\".format(row_count_after_process- expected_row_num))"
   ]
  },
  {
   "cell_type": "code",
   "execution_count": null,
   "metadata": {
    "collapsed": false,
    "deletable": true,
    "editable": true
   },
   "outputs": [],
   "source": [
    "\"\"\"\n",
    "Partition distribution of time series created.\n",
    "\"\"\"\n",
    "temp_ts_df = eventSession.sql(\"select key2, ts_count(value_time_series) as c from ts_table\")\n",
    "print(\"number of partitions after time series creation: \",temp_ts_df.rdd.getNumPartitions())\n",
    "print(\"partition sizes after time series creation: \", temp_ts_df.rdd.mapPartitions(lambda s: iter([sum(1 for _ in s)])).collect())"
   ]
  },
  {
   "cell_type": "markdown",
   "metadata": {
    "deletable": true,
    "editable": true
   },
   "source": [
    "### 3.2 Naive approach performance\n",
    "\n",
    "In the naive approach, we compare the reading at the current timestamp versus the reading at the previous timestamp.\n",
    "If there is are consecutive duplications, only the earliest reading will be kept."
   ]
  },
  {
   "cell_type": "code",
   "execution_count": null,
   "metadata": {
    "collapsed": true,
    "deletable": true,
    "editable": true
   },
   "outputs": [],
   "source": [
    "def naive_on_change(L0_sdf, es_session):\n",
    "    from pyspark.sql import Window\n",
    "    from pyspark.sql.functions import lag\n",
    "    \n",
    "    # We will use current time to build the temp views names\n",
    "    def tabletag():\n",
    "        from time import time\n",
    "        return 'TABLE'+str(int(time()*1000000))\n",
    "    \n",
    "    # Time sort\n",
    "    L1_sdf = L0_sdf.orderBy('TIMESTAMP')\n",
    "    L0_sortedTable = tabletag()\n",
    "    L1_sdf.createOrReplaceTempView(L0_sortedTable)\n",
    "    \n",
    "    # Keep first record\n",
    "    L1_first_sdf = es_session.sql('SELECT TIMESTAMP, value FROM ' + L0_sortedTable + ' LIMIT 1')\n",
    "    \n",
    "    # Prepare lag program, for record at each timestamp, add a column of readings of the previous timestamp\n",
    "    eng_col = L1_sdf['value']\n",
    "    lag_eng = lag(eng_col).over(Window.orderBy('TIMESTAMP'))\n",
    "    L1_sdf = L1_sdf.withColumn('prev_value', lag_eng)\n",
    "    \n",
    "    # Prepare diff program, compare reading(now_timestamp) v.s reading(previous_timestamp)\n",
    "    prev_eng_col = L1_sdf['prev_value']\n",
    "    L1_sdf = L1_sdf.withColumn('diff_value', eng_col - prev_eng_col)\n",
    "    \n",
    "    # Prepare on-change filter program, drop record row if reading(now_timestamp) is identical with the reading(previous_timestamp)\n",
    "    diff_eng_col = L1_sdf['diff_value']\n",
    "    L1_sdf = L1_sdf.filter(diff_eng_col != 0)\n",
    "    \n",
    "    # Remove intermediate computing columns, only keep the earlist record with the smallest timestamp\n",
    "    # for duplicated consecutive records.\n",
    "    L1_sdf = L1_sdf.select('TIMESTAMP', 'value')\n",
    "    \n",
    "    # Append first record\n",
    "    L1_sdf = L1_first_sdf.union(L1_sdf).distinct().orderBy('TIMESTAMP')\n",
    "    \n",
    "    # Return result\n",
    "    return L1_sdf"
   ]
  },
  {
   "cell_type": "code",
   "execution_count": null,
   "metadata": {
    "collapsed": false,
    "deletable": true,
    "editable": true,
    "scrolled": false
   },
   "outputs": [],
   "source": [
    "start = time.time()\n",
    "df = naive_on_change(raw_table_with_dates,eventSession)\n",
    "df.show()\n",
    "end = time.time()\n",
    "print(end - start, \"seconds\")\n"
   ]
  },
  {
   "cell_type": "code",
   "execution_count": null,
   "metadata": {
    "collapsed": false,
    "deletable": true,
    "editable": true
   },
   "outputs": [],
   "source": [
    "df.explain()"
   ]
  },
  {
   "cell_type": "code",
   "execution_count": null,
   "metadata": {
    "collapsed": false,
    "deletable": true,
    "editable": true
   },
   "outputs": [],
   "source": [
    "df.count()"
   ]
  },
  {
   "cell_type": "markdown",
   "metadata": {
    "collapsed": false,
    "deletable": true,
    "editable": true,
    "scrolled": false
   },
   "source": [
    "## Conclusion:\n",
    "\n",
    "Total processing times are:\n",
    "- Time series approach\n",
    "    - granularity in years: \n",
    "        103.34106540679932  seconds\n",
    "    - granularity in dates:\n",
    "        78.09961080551147 seconds\n",
    "- Naive approach\n",
    "    126.62504267692566 seconds\n",
    "\n",
    "\n",
    "In general, the performance of consecutive duplication removal using IBM Db2 Event Store's Time Series approach is in linear order with that using the naive approach. There are, however, cases that IBM Db2 Event Store's Time Series function performs significantly better than the naive approach. Time series approaches also have the advantage of re-usability and flexible clustering key.\n",
    "\n",
    "**1/ Performance:**\n",
    "\n",
    "**1.1/ Time series creation using Spark UDAF SQL versus Create function**\n",
    "\n",
    "\n",
    "\n",
    "**1.2/ Consecutive duplication removal using Time Series approach versus Naive approach**\n",
    "\n",
    "The Time Series approach generally performs faster as the clustering granularity decreases when creating time series. For example, duplication removal performance on time series created per year is generally slower than the time series created per day. The reason is that more time series will be created with smaller cluster granularity, allowing for the duplication removal process to concurrently run on multiple time series. \n",
    "\n",
    "There is a small caveat, however, that the number of remaining duplications will increase with smaller clustering granularity. For example, that grouping by key [day 1] [day 2] … [day n]. If you remove dups on each one, If let's say the last value of day 1 is dup with the first value of day 2, it will not catch that as dups were removed on an each-time-series basis. Having said that, on a large scale, this will always occur as it depends on how much data you are querying each time, for instance, if they query 1 day at a time, unless they keep track of the last value in each day every time they query, for the next time they query, they will also have this issue.\n",
    "\n",
    "**2/ Reusability:**\n",
    "\n",
    "Intermediate data frame will be created containing time series. Those time series, which are compatible with other Event Store time series functions,  can be easily cached and re-used in future operations, whereas the naive approach will need manual manipulation.\n",
    "\n",
    "**3/ Flexible clustering key:**\n",
    "\n",
    "The create function provides a highly efficient way of creating time series using provided keys. It accepts multiple key columns.\n",
    "If user has a table:\n",
    "```\n",
    "root\n",
    " |-- DEVICEID: integer (nullable = false)\n",
    " |-- SENSORID: integer (nullable = false)\n",
    " |-- TIMESTAMP: long (nullable = false)\n",
    " |-- READING: double (nullable = false)\n",
    " ```\n",
    "User can chose to create time series on `key = [DEVICEID]` to eliminate consecutive duplications per device, or create time series on `key = [\"DEVICEID\", \"SENSORID\"]` to eliminate consecutive duplications per sensor on each device."
   ]
  }
 ],
 "metadata": {
  "kernelspec": {
   "display_name": "Python3.5 with Watson Studio Spark 2.2.1",
   "language": "python",
   "name": "python3"
  },
  "language_info": {
   "codemirror_mode": {
    "name": "ipython",
    "version": 3
   },
   "file_extension": ".py",
   "mimetype": "text/x-python",
   "name": "python",
   "nbconvert_exporter": "python",
   "pygments_lexer": "ipython3",
   "version": "3.5.2"
  }
 },
 "nbformat": 4,
 "nbformat_minor": 2
}
