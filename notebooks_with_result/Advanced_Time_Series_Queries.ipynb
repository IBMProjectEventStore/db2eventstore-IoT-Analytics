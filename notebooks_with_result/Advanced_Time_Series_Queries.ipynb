{
 "cells": [
  {
   "cell_type": "code",
   "execution_count": 1,
   "metadata": {
    "collapsed": true,
    "deletable": true,
    "editable": true
   },
   "outputs": [],
   "source": [
    "## Import libraries"
   ]
  },
  {
   "cell_type": "code",
   "execution_count": 2,
   "metadata": {
    "collapsed": true,
    "deletable": true,
    "editable": true
   },
   "outputs": [],
   "source": [
    "from eventstore.oltp import EventContext\n",
    "from eventstore.sql import EventSession\n",
    "from eventstore.common import ConfigurationReader\n",
    "from pyspark.sql import SparkSession\n",
    "\n",
    "ConfigurationReader.setEventUser(\"admin\")\n",
    "ConfigurationReader.setEventPassword(\"password\")"
   ]
  },
  {
   "cell_type": "code",
   "execution_count": 3,
   "metadata": {
    "collapsed": false,
    "deletable": true,
    "editable": true
   },
   "outputs": [],
   "source": [
    "#sparkSession = SparkSession.builder.config('spark.jars', './spark-time-series-sql.jar').appName(\"EventStore SQL in Python\").getOrCreate()\n",
    "sparkSession = SparkSession.builder.appName(\"EventStore SQL in Python\").getOrCreate()\n",
    "eventSession = EventSession(sparkSession.sparkContext, \"EVENTDB\")\n",
    "eventSession.set_query_read_option(\"SnapshotNow\")\n",
    "eventSession._jvm.org.apache.spark.sql.types.SqlTimeSeries.register(eventSession._jsparkSession)\n",
    "eventSession.open_database()\n",
    "ctx = EventContext.get_event_context(\"EVENTDB\")"
   ]
  },
  {
   "cell_type": "code",
   "execution_count": 4,
   "metadata": {
    "collapsed": true,
    "deletable": true,
    "editable": true
   },
   "outputs": [],
   "source": [
    "from eventstore.catalog import TableSchema\n",
    "from pyspark.sql.types import *"
   ]
  },
  {
   "cell_type": "code",
   "execution_count": 5,
   "metadata": {
    "collapsed": false,
    "deletable": true,
    "editable": true
   },
   "outputs": [],
   "source": [
    "table_names = ctx.get_names_of_tables()\n",
    "for idx, name in enumerate(table_names):\n",
    "    print(idx, name)"
   ]
  },
  {
   "cell_type": "code",
   "execution_count": 6,
   "metadata": {
    "collapsed": true,
    "deletable": true,
    "editable": true
   },
   "outputs": [],
   "source": [
    "from datetime import datetime\n",
    "\n",
    "def datetime_converter(datetime_string):\n",
    "    # (1) Convert to datetime format\n",
    "    utc_time = datetime.strptime(datetime_string.split('.000Z')[0], \"%Y-%m-%dT%H:%M:%S\")\n",
    "\n",
    "    return int((utc_time - datetime(1970, 1, 1)).total_seconds())"
   ]
  },
  {
   "cell_type": "code",
   "execution_count": 7,
   "metadata": {
    "collapsed": true,
    "deletable": true,
    "editable": true
   },
   "outputs": [],
   "source": [
    "## create table and loading data for DHT"
   ]
  },
  {
   "cell_type": "code",
   "execution_count": 8,
   "metadata": {
    "collapsed": false,
    "deletable": true,
    "editable": true
   },
   "outputs": [],
   "source": [
    "# Define table schema to be created\n",
    "with EventContext.get_event_context(\"EVENTDB\") as ctx:\n",
    "    schema = StructType([\n",
    "        StructField(\"sensor_id\", IntegerType(), nullable = False),\n",
    "        StructField(\"timestamp\", IntegerType(), nullable = False),\n",
    "        StructField(\"location\", IntegerType(), nullable = False),\n",
    "        StructField(\"humidity\", FloatType(), nullable = True)\n",
    "    ])  \n",
    "    table_schema = TableSchema(\"dht_table\", schema,\n",
    "                                sharding_columns=[\"sensor_id\"],\n",
    "                                pk_columns=[\"sensor_id\",\"timestamp\",\"location\"])"
   ]
  },
  {
   "cell_type": "code",
   "execution_count": 9,
   "metadata": {
    "collapsed": false,
    "deletable": true,
    "editable": true,
    "scrolled": true
   },
   "outputs": [
    {
     "name": "stdout",
     "output_type": "stream",
     "text": [
      "ADMIN.DHT_TABLE\n"
     ]
    }
   ],
   "source": [
    "# try create table if not exist\n",
    "# try:\n",
    "#     ctx.drop_table(\"DHT_TABLE\")\n",
    "# except Exception as error:\n",
    "#     print(error)\n",
    "try:\n",
    "    ctx.create_table(table_schema)\n",
    "except Exception as error:\n",
    "    print(error)\n",
    "    \n",
    "table_names = ctx.get_names_of_tables()\n",
    "for idx, name in enumerate(table_names):\n",
    "    print(name)"
   ]
  },
  {
   "cell_type": "code",
   "execution_count": 10,
   "metadata": {
    "collapsed": true,
    "deletable": true,
    "editable": true
   },
   "outputs": [],
   "source": [
    "dht_table = eventSession.load_event_table(\"dht_table\")"
   ]
  },
  {
   "cell_type": "code",
   "execution_count": 11,
   "metadata": {
    "collapsed": false,
    "deletable": true,
    "editable": true
   },
   "outputs": [
    {
     "name": "stdout",
     "output_type": "stream",
     "text": [
      "ResolvedTableSchema(tableName=ADMINDHT_TABLE, schema=StructType(List(StructField(SENSOR_ID,IntegerType,false),StructField(TIMESTAMP,IntegerType,false),StructField(LOCATION,IntegerType,false),StructField(HUMIDITY,FloatType,true))), sharding_columns=['SENSOR_ID'], pk_columns=['SENSOR_ID', 'TIMESTAMP', 'LOCATION'], partition_columns=None, schema_name=Some(ADMIN))\n"
     ]
    }
   ],
   "source": [
    "# ingest data into table\n",
    "import os\n",
    "resolved_table_schema = ctx.get_table(\"dht_table\")\n",
    "print(resolved_table_schema)\n",
    "with open(os.environ['DSX_PROJECT_DIR']+'/datasets/dht_1k.csv') as f:\n",
    "    f.readline()\n",
    "    content = f.readlines()\n",
    "content = [l.split(\",\") for l in content]\n",
    "batch = [dict(sensor_id=int(c[5]), timestamp=datetime_converter(c[7]), location=int(c[0]), humidity=float(c[2])) for c in content]\n",
    "ctx.batch_insert(resolved_table_schema, batch)"
   ]
  },
  {
   "cell_type": "code",
   "execution_count": 12,
   "metadata": {
    "collapsed": false,
    "deletable": true,
    "editable": true,
    "scrolled": false
   },
   "outputs": [
    {
     "data": {
      "text/plain": [
       "41569"
      ]
     },
     "execution_count": 12,
     "metadata": {},
     "output_type": "execute_result"
    }
   ],
   "source": [
    "# verify ingested result\n",
    "dht_table = eventSession.load_event_table(\"dht_table\")\n",
    "dht_table.count()"
   ]
  },
  {
   "cell_type": "code",
   "execution_count": 13,
   "metadata": {
    "collapsed": false,
    "deletable": true,
    "editable": true
   },
   "outputs": [],
   "source": [
    "dht_table.createOrReplaceTempView(\"dht_raw_table\")"
   ]
  },
  {
   "cell_type": "code",
   "execution_count": 14,
   "metadata": {
    "collapsed": false,
    "deletable": true,
    "editable": true
   },
   "outputs": [
    {
     "name": "stdout",
     "output_type": "stream",
     "text": [
      "+--------+\n",
      "|count(1)|\n",
      "+--------+\n",
      "|   41569|\n",
      "+--------+\n",
      "\n"
     ]
    }
   ],
   "source": [
    "eventSession.sql(\"select count(*) from dht_raw_table\").show()"
   ]
  },
  {
   "cell_type": "code",
   "execution_count": 15,
   "metadata": {
    "collapsed": true,
    "deletable": true,
    "editable": true
   },
   "outputs": [],
   "source": [
    "## create table and loading data for SDS"
   ]
  },
  {
   "cell_type": "code",
   "execution_count": 16,
   "metadata": {
    "collapsed": true,
    "deletable": true,
    "editable": true
   },
   "outputs": [],
   "source": [
    "with EventContext.get_event_context(\"EVENTDB\") as ctx:\n",
    "    schema = StructType([\n",
    "        StructField(\"sensor_id\", IntegerType(), nullable = False),\n",
    "        StructField(\"timestamp\", LongType(), nullable = False),\n",
    "        StructField(\"location\", IntegerType(), nullable = False),\n",
    "        StructField(\"p_1\", DoubleType(), nullable = True)\n",
    "    ])  \n",
    "    table_schema = TableSchema(\"sds_table\", schema,\n",
    "                                sharding_columns=[\"sensor_id\"],\n",
    "                                pk_columns=[\"sensor_id\",\"timestamp\",\"location\"])\n"
   ]
  },
  {
   "cell_type": "code",
   "execution_count": 17,
   "metadata": {
    "collapsed": false,
    "deletable": true,
    "editable": true
   },
   "outputs": [
    {
     "name": "stdout",
     "output_type": "stream",
     "text": [
      "ADMIN.DHT_TABLE\n",
      "ADMIN.SDS_TABLE\n"
     ]
    }
   ],
   "source": [
    "# try:\n",
    "#     ctx.drop_table(\"SDS_TABLE\")\n",
    "# except Exception as error:\n",
    "#     print(error)\n",
    "try:\n",
    "    ctx.create_table(table_schema)\n",
    "except Exception as error:\n",
    "    print(error)\n",
    "table_names = ctx.get_names_of_tables()\n",
    "for idx, name in enumerate(table_names):\n",
    "    print(name)"
   ]
  },
  {
   "cell_type": "code",
   "execution_count": 18,
   "metadata": {
    "collapsed": true,
    "deletable": true,
    "editable": true
   },
   "outputs": [],
   "source": [
    "sds_table = eventSession.load_event_table(\"sds_table\")"
   ]
  },
  {
   "cell_type": "code",
   "execution_count": 19,
   "metadata": {
    "collapsed": false,
    "deletable": true,
    "editable": true
   },
   "outputs": [],
   "source": [
    "with EventContext.get_event_context(\"EVENTDB\") as ctx:\n",
    "    resolved_table_schema = ctx.get_table(\"sds_table\")\n",
    "    with open(os.environ['DSX_PROJECT_DIR']+'/datasets/sds_1k.csv') as f:\n",
    "        f.readline()\n",
    "        content = f.readlines()\n",
    "    content = [l.split(\",\") for l in content]\n",
    "    batch = [dict(sensor_id=int(c[5]), timestamp=datetime_converter(c[7]), location=int(c[0]), p_1=float(c[2])) for c in content if c[2] != \"\"]\n",
    "    ctx.batch_insert(resolved_table_schema, batch)"
   ]
  },
  {
   "cell_type": "code",
   "execution_count": 20,
   "metadata": {
    "collapsed": false,
    "deletable": true,
    "editable": true
   },
   "outputs": [
    {
     "data": {
      "text/plain": [
       "51246"
      ]
     },
     "execution_count": 20,
     "metadata": {},
     "output_type": "execute_result"
    }
   ],
   "source": [
    "sds_table=eventSession.load_event_table(\"sds_table\")\n",
    "sds_table.count()"
   ]
  },
  {
   "cell_type": "code",
   "execution_count": 21,
   "metadata": {
    "collapsed": true,
    "deletable": true,
    "editable": true
   },
   "outputs": [],
   "source": [
    "sds_table.createOrReplaceTempView(\"sds_raw_table\")"
   ]
  },
  {
   "cell_type": "code",
   "execution_count": 22,
   "metadata": {
    "collapsed": false,
    "deletable": true,
    "editable": true
   },
   "outputs": [
    {
     "name": "stdout",
     "output_type": "stream",
     "text": [
      "+---------+----------+--------+----+\n",
      "|SENSOR_ID| TIMESTAMP|LOCATION| P_1|\n",
      "+---------+----------+--------+----+\n",
      "|     1108|1504137694|     541| 7.1|\n",
      "|     1108|1504137843|     541| 7.0|\n",
      "|     1108|1504137992|     541|7.95|\n",
      "|     1108|1504138140|     541| 8.4|\n",
      "|     1108|1504138288|     541|7.37|\n",
      "+---------+----------+--------+----+\n",
      "only showing top 5 rows\n",
      "\n"
     ]
    }
   ],
   "source": [
    "eventSession.sql(\"select * from sds_raw_table\").show(5)"
   ]
  },
  {
   "cell_type": "code",
   "execution_count": 23,
   "metadata": {
    "collapsed": true,
    "deletable": true,
    "editable": true
   },
   "outputs": [],
   "source": [
    "## Query"
   ]
  },
  {
   "cell_type": "code",
   "execution_count": 24,
   "metadata": {
    "collapsed": false,
    "deletable": true,
    "editable": true,
    "scrolled": false
   },
   "outputs": [
    {
     "name": "stdout",
     "output_type": "stream",
     "text": [
      "+--------+\n",
      "|count(1)|\n",
      "+--------+\n",
      "|   41569|\n",
      "+--------+\n",
      "\n"
     ]
    }
   ],
   "source": [
    "sql=\"SELECT count(*) FROM dht_raw_table\"\n",
    "eventSession.sql(sql).show(5)"
   ]
  },
  {
   "cell_type": "markdown",
   "metadata": {
    "deletable": true,
    "editable": true
   },
   "source": [
    "# Perform a temporal full align of sds and dht time series\n",
    "\n",
    "This query has a few main things to consider:\n",
    "\n",
    "## Creating your time series\n",
    "\n",
    "first a time series must be created\n",
    "\n",
    "### sds time series\n",
    "\n",
    "```sql\n",
    "SELECT location, D_TIME_SERIES(timestamp, p_1) AS sds FROM sds_raw_table GROUP BY location\n",
    "```\n",
    "\n",
    "### dht time series\n",
    "\n",
    "```sql\n",
    "SELECT location, D_TIME_SERIES(timestamp, humidity) AS dht FROM dht_raw_table GROUP BY location\n",
    "```\n",
    "\n",
    "## Performing full temporal align\n",
    "\n",
    "Performing a full temporal align requires 2 parameters:\n",
    "\n",
    "- The left Time Series\n",
    "- The right Time Series\n",
    "\n",
    "Once given, the returned output will be 2 columns (the 2 aligned time series) as **left_column**_aligned and **right_column**_aligned\n",
    "\n",
    "*Note: With this method, all missing values will be replaced with null*"
   ]
  },
  {
   "cell_type": "code",
   "execution_count": 25,
   "metadata": {
    "collapsed": false,
    "deletable": true,
    "editable": true,
    "scrolled": false
   },
   "outputs": [
    {
     "name": "stdout",
     "output_type": "stream",
     "text": [
      "+--------+--------------------+\n",
      "|location|                 dht|\n",
      "+--------+--------------------+\n",
      "|    2662|[(1503834699,37.9...|\n",
      "|    2683|[(1503961904,87.0...|\n",
      "|    2682|[(1503960327,67.6...|\n",
      "|    2680|[(1503959071,86.5...|\n",
      "|    2684|[(1503963045,89.9...|\n",
      "+--------+--------------------+\n",
      "only showing top 5 rows\n",
      "\n"
     ]
    },
    {
     "data": {
      "text/plain": [
       "27"
      ]
     },
     "execution_count": 25,
     "metadata": {},
     "output_type": "execute_result"
    }
   ],
   "source": [
    "sql=\"SELECT location, TIME_SERIES(timestamp, humidity) AS dht FROM dht_raw_table GROUP BY location\"\n",
    "eventSession.sql(sql).show(5)\n",
    "eventSession.sql(sql).count()"
   ]
  },
  {
   "cell_type": "code",
   "execution_count": 26,
   "metadata": {
    "collapsed": false,
    "deletable": true,
    "editable": true
   },
   "outputs": [
    {
     "name": "stdout",
     "output_type": "stream",
     "text": [
      "+--------+--------------------+\n",
      "|location|                 sds|\n",
      "+--------+--------------------+\n",
      "|    2662|[(1503834699,5.33...|\n",
      "|    2683|[(1503961757,4.8)...|\n",
      "|    2682|[(1503960326,8.87...|\n",
      "|    2680|[(1503958922,30.8...|\n",
      "|    2684|[(1503963045,38.3...|\n",
      "+--------+--------------------+\n",
      "only showing top 5 rows\n",
      "\n"
     ]
    },
    {
     "data": {
      "text/plain": [
       "33"
      ]
     },
     "execution_count": 26,
     "metadata": {},
     "output_type": "execute_result"
    }
   ],
   "source": [
    "sql=\"SELECT location, TIME_SERIES(timestamp, p_1) AS sds FROM sds_raw_table GROUP BY location\"\n",
    "eventSession.sql(sql).show(5)\n",
    "eventSession.sql(sql).count()"
   ]
  },
  {
   "cell_type": "code",
   "execution_count": 27,
   "metadata": {
    "collapsed": false,
    "deletable": true,
    "editable": true,
    "scrolled": false
   },
   "outputs": [
    {
     "name": "stdout",
     "output_type": "stream",
     "text": [
      "+--------+--------------------+--------------------+\n",
      "|location|         dht_aligned|         sds_aligned|\n",
      "+--------+--------------------+--------------------+\n",
      "|    2662|[(1503834699,37.9...|[(1503834699,5.33...|\n",
      "|    2683|[(1503961757,-1.0...|[(1503961757,4.8)...|\n",
      "|    2682|[(1503960326,-1.0...|[(1503960326,8.87...|\n",
      "|    2680|[(1503958922,-1.0...|[(1503958922,30.8...|\n",
      "|    2684|[(1503963045,89.9...|[(1503963045,38.3...|\n",
      "|    1773|[(1501703936,-1.0...|[(1501703936,424....|\n",
      "|    2633|[(1503575337,-1.0...|[(1503575337,6.2)...|\n",
      "|    1323|[(1503897678,-1.0...|[(1503897678,6.27...|\n",
      "|    2686|[(1503964139,64.4...|[(1503964139,7.0)...|\n",
      "|    2681|[(1503960072,-1.0...|[(1503960072,24.2...|\n",
      "|     966|[(1501545689,99.9...|[(1501545689,7.83...|\n",
      "|    2640|[(1503609572,64.4...|[(1503609572,3.0)...|\n",
      "|     732|[(1501545688,73.5...|[(1501545688,0.3)...|\n",
      "|    2652|[(1503702364,67.9...|[(1503702364,9.1)...|\n",
      "|    1314|[(1501577454,53.5...|[(1501577454,5.43...|\n",
      "|     462|[(1501545650,87.1...|[(1501545650,4.6)...|\n",
      "|    1216|[(1503964855,-1.0...|[(1503964855,6.57...|\n",
      "|     314|[(1504029923,63.2...|[(1504029923,11.1...|\n",
      "|    1099|[(1503932184,-1.0...|[(1503932184,7.03...|\n",
      "|    2408|[(1501905944,80.6...|[(1501905944,2.1)...|\n",
      "+--------+--------------------+--------------------+\n",
      "only showing top 20 rows\n",
      "\n"
     ]
    }
   ],
   "source": [
    "stmt = \"\"\"\n",
    "    SELECT sds_table.location, TS_FULL_ALIGN(dht, sds, TS_INTERPOLATOR_NEAREST(-1.0)) FROM \n",
    "        (SELECT location, TIME_SERIES(timestamp, humidity) AS dht FROM dht_raw_table GROUP BY location) AS dht_table\n",
    "        INNER JOIN\n",
    "        (SELECT location, TIME_SERIES(timestamp, p_1) AS sds FROM sds_raw_table GROUP BY location) AS sds_table\n",
    "        ON dht_table.location = sds_table.location\n",
    "\"\"\"\n",
    "df = eventSession.sql(stmt)\n",
    "df.show()\n",
    "df.count()\n",
    "eventSession.sql(stmt).createOrReplaceTempView(\"dht_sds_ts_table\")"
   ]
  },
  {
   "cell_type": "markdown",
   "metadata": {
    "deletable": true,
    "editable": true
   },
   "source": [
    "# Display the aligned TimeSeries table"
   ]
  },
  {
   "cell_type": "code",
   "execution_count": 28,
   "metadata": {
    "collapsed": false,
    "deletable": true,
    "editable": true,
    "scrolled": true
   },
   "outputs": [
    {
     "name": "stdout",
     "output_type": "stream",
     "text": [
      "+--------+\n",
      "|count(1)|\n",
      "+--------+\n",
      "|      23|\n",
      "+--------+\n",
      "\n"
     ]
    }
   ],
   "source": [
    "eventSession.sql(\"select count(*) from dht_sds_ts_table\").show()"
   ]
  },
  {
   "cell_type": "markdown",
   "metadata": {
    "deletable": true,
    "editable": true
   },
   "source": [
    "# Fill nulls with a the nearest value\n"
   ]
  },
  {
   "cell_type": "code",
   "execution_count": 29,
   "metadata": {
    "collapsed": false,
    "deletable": true,
    "editable": true,
    "scrolled": false
   },
   "outputs": [],
   "source": [
    "eventSession.sql(\"SELECT location, TS_FILLNA(dht_aligned,TS_INTERPOLATOR_NEAREST(-1.0)) as ts FROM dht_sds_ts_table\").createOrReplaceTempView(\"dht_no_nulls\")\n",
    "eventSession.sql(\"SELECT location, TS_FILLNA(sds_aligned,TS_INTERPOLATOR_NEAREST(-1.0)) as ts FROM dht_sds_ts_table\").createOrReplaceTempView(\"sds_no_nulls\")"
   ]
  },
  {
   "cell_type": "code",
   "execution_count": 30,
   "metadata": {
    "collapsed": false,
    "deletable": true,
    "editable": true
   },
   "outputs": [],
   "source": [
    "eventSession.sql(\"SELECT location, TS_EXPLODE(ts) FROM dht_no_nulls\").createOrReplaceTempView(\"dht_exploded\")\n",
    "eventSession.sql(\"SELECT location, TS_EXPLODE(ts) FROM sds_no_nulls\").createOrReplaceTempView(\"sds_exploded\")"
   ]
  },
  {
   "cell_type": "code",
   "execution_count": 31,
   "metadata": {
    "collapsed": false,
    "deletable": true,
    "editable": true
   },
   "outputs": [
    {
     "data": {
      "text/plain": [
       "49786"
      ]
     },
     "execution_count": 31,
     "metadata": {},
     "output_type": "execute_result"
    }
   ],
   "source": [
    "eventSession.sql(\"select * from dht_exploded\").count()"
   ]
  },
  {
   "cell_type": "code",
   "execution_count": 32,
   "metadata": {
    "collapsed": false,
    "deletable": true,
    "editable": true
   },
   "outputs": [
    {
     "data": {
      "text/plain": [
       "49786"
      ]
     },
     "execution_count": 32,
     "metadata": {},
     "output_type": "execute_result"
    }
   ],
   "source": [
    "eventSession.sql(\"select * from sds_exploded\").count()"
   ]
  },
  {
   "cell_type": "code",
   "execution_count": 33,
   "metadata": {
    "collapsed": false,
    "deletable": true,
    "editable": true,
    "scrolled": false
   },
   "outputs": [
    {
     "name": "stdout",
     "output_type": "stream",
     "text": [
      "+--------+----------+------------------+-----+\n",
      "|location| timestamp|          humidity|  p_1|\n",
      "+--------+----------+------------------+-----+\n",
      "|     138|1501548094|               1.0|  5.9|\n",
      "|     138|1501564534|               1.0|  7.2|\n",
      "|     138|1501583914|               1.0|  4.1|\n",
      "|     138|1501604784|               1.0|  4.2|\n",
      "|     138|1501606399|               1.0| 4.83|\n",
      "|     138|1501610653|               1.0| 8.07|\n",
      "|     138|1501636474|58.400001525878906| 5.63|\n",
      "|     138|1501656427|               1.0|  4.1|\n",
      "|     138|1501683577|               1.0|  7.9|\n",
      "|     314|1504069209|56.400001525878906| 9.52|\n",
      "|     314|1504105745| 53.20000076293945|  4.8|\n",
      "|     314|1504109853|54.599998474121094| 5.05|\n",
      "|     314|1504115575|58.099998474121094|10.38|\n",
      "|     314|1504127465| 62.70000076293945|  8.5|\n",
      "|     314|1504146568|  71.9000015258789|  4.9|\n",
      "|     314|1504165064| 74.80000305175781| 3.95|\n",
      "|     314|1504184729| 63.29999923706055| 1.58|\n",
      "|     314|1504218776|  69.9000015258789| 3.08|\n",
      "|     462|1501550932|  89.5999984741211| 4.03|\n",
      "|     462|1501580732| 65.19999694824219|  5.6|\n",
      "+--------+----------+------------------+-----+\n",
      "only showing top 20 rows\n",
      "\n"
     ]
    },
    {
     "data": {
      "text/plain": [
       "49786"
      ]
     },
     "execution_count": 33,
     "metadata": {},
     "output_type": "execute_result"
    }
   ],
   "source": [
    "stmt = \"\"\"\n",
    "    select dht_exploded.location, dht_exploded.ts_timeTick as timestamp, dht_exploded.ts_value as humidity, sds_exploded.ts_value as p_1 FROM\n",
    "        dht_exploded\n",
    "        INNER JOIN\n",
    "        sds_exploded\n",
    "        ON dht_exploded.location=sds_exploded.location and dht_exploded.ts_timeTick=sds_exploded.ts_timeTick\n",
    "\"\"\"\n",
    "df = eventSession.sql(stmt)\n",
    "df.show()\n",
    "df.count()"
   ]
  },
  {
   "cell_type": "markdown",
   "metadata": {
    "deletable": true,
    "editable": true
   },
   "source": [
    "# Describe a TimeSeries\n",
    "\n",
    "TimeSeries SQL has the ability to describe a TimeSeries, which will give back statistics of the TimeSeries, each being in their own column."
   ]
  },
  {
   "cell_type": "code",
   "execution_count": 34,
   "metadata": {
    "collapsed": false,
    "deletable": true,
    "editable": true
   },
   "outputs": [
    {
     "data": {
      "text/html": [
       "<div>\n",
       "<style>\n",
       "    .dataframe thead tr:only-child th {\n",
       "        text-align: right;\n",
       "    }\n",
       "\n",
       "    .dataframe thead th {\n",
       "        text-align: left;\n",
       "    }\n",
       "\n",
       "    .dataframe tbody tr th {\n",
       "        vertical-align: top;\n",
       "    }\n",
       "</style>\n",
       "<table border=\"1\" class=\"dataframe\">\n",
       "  <thead>\n",
       "    <tr style=\"text-align: right;\">\n",
       "      <th></th>\n",
       "      <th>location</th>\n",
       "      <th>ts_time_min</th>\n",
       "      <th>ts_time_max</th>\n",
       "      <th>ts_time_mean</th>\n",
       "      <th>ts_mode</th>\n",
       "      <th>ts_unique</th>\n",
       "      <th>ts_frequency</th>\n",
       "      <th>ts_first_time_tick</th>\n",
       "      <th>ts_first_value</th>\n",
       "      <th>ts_last_time_tick</th>\n",
       "      <th>ts_last_value</th>\n",
       "      <th>ts_count</th>\n",
       "      <th>ts_num_mean</th>\n",
       "      <th>ts_num_std</th>\n",
       "      <th>ts_num_min</th>\n",
       "      <th>ts_num_max</th>\n",
       "      <th>ts_num_25</th>\n",
       "      <th>ts_num_50</th>\n",
       "      <th>ts_num_75</th>\n",
       "    </tr>\n",
       "  </thead>\n",
       "  <tbody>\n",
       "    <tr>\n",
       "      <th>0</th>\n",
       "      <td>2662</td>\n",
       "      <td>1</td>\n",
       "      <td>14692</td>\n",
       "      <td>176.410194</td>\n",
       "      <td>34.500000</td>\n",
       "      <td>495</td>\n",
       "      <td>19</td>\n",
       "      <td>1503834699</td>\n",
       "      <td>37.900002</td>\n",
       "      <td>1504198104</td>\n",
       "      <td>50.700001</td>\n",
       "      <td>2061</td>\n",
       "      <td>50.948617</td>\n",
       "      <td>16.359299</td>\n",
       "      <td>27.299999</td>\n",
       "      <td>87.099998</td>\n",
       "      <td>36.500000</td>\n",
       "      <td>48.099998</td>\n",
       "      <td>63.099998</td>\n",
       "    </tr>\n",
       "    <tr>\n",
       "      <th>1</th>\n",
       "      <td>2683</td>\n",
       "      <td>1</td>\n",
       "      <td>46752</td>\n",
       "      <td>132.138105</td>\n",
       "      <td>87.699997</td>\n",
       "      <td>357</td>\n",
       "      <td>48</td>\n",
       "      <td>1503961757</td>\n",
       "      <td>-1.000000</td>\n",
       "      <td>1504223919</td>\n",
       "      <td>89.599998</td>\n",
       "      <td>1985</td>\n",
       "      <td>81.485290</td>\n",
       "      <td>12.982737</td>\n",
       "      <td>-1.000000</td>\n",
       "      <td>94.800003</td>\n",
       "      <td>80.300003</td>\n",
       "      <td>86.199997</td>\n",
       "      <td>89.300003</td>\n",
       "    </tr>\n",
       "    <tr>\n",
       "      <th>2</th>\n",
       "      <td>2682</td>\n",
       "      <td>1</td>\n",
       "      <td>528</td>\n",
       "      <td>116.768276</td>\n",
       "      <td>77.500000</td>\n",
       "      <td>471</td>\n",
       "      <td>22</td>\n",
       "      <td>1503960326</td>\n",
       "      <td>-1.000000</td>\n",
       "      <td>1504223872</td>\n",
       "      <td>80.900002</td>\n",
       "      <td>2258</td>\n",
       "      <td>66.481222</td>\n",
       "      <td>16.624317</td>\n",
       "      <td>-1.000000</td>\n",
       "      <td>92.800003</td>\n",
       "      <td>48.400002</td>\n",
       "      <td>71.400002</td>\n",
       "      <td>80.000000</td>\n",
       "    </tr>\n",
       "    <tr>\n",
       "      <th>3</th>\n",
       "      <td>2680</td>\n",
       "      <td>1</td>\n",
       "      <td>10955</td>\n",
       "      <td>100.226551</td>\n",
       "      <td>90.099998</td>\n",
       "      <td>573</td>\n",
       "      <td>30</td>\n",
       "      <td>1503958922</td>\n",
       "      <td>-1.000000</td>\n",
       "      <td>1504223921</td>\n",
       "      <td>92.800003</td>\n",
       "      <td>2645</td>\n",
       "      <td>64.734253</td>\n",
       "      <td>22.673204</td>\n",
       "      <td>-1.000000</td>\n",
       "      <td>92.900002</td>\n",
       "      <td>44.799999</td>\n",
       "      <td>69.199997</td>\n",
       "      <td>86.199997</td>\n",
       "    </tr>\n",
       "    <tr>\n",
       "      <th>4</th>\n",
       "      <td>2684</td>\n",
       "      <td>1</td>\n",
       "      <td>305</td>\n",
       "      <td>107.693768</td>\n",
       "      <td>90.000000</td>\n",
       "      <td>571</td>\n",
       "      <td>42</td>\n",
       "      <td>1503963045</td>\n",
       "      <td>89.900002</td>\n",
       "      <td>1504223987</td>\n",
       "      <td>93.000000</td>\n",
       "      <td>2424</td>\n",
       "      <td>69.974340</td>\n",
       "      <td>19.957587</td>\n",
       "      <td>23.900000</td>\n",
       "      <td>93.400002</td>\n",
       "      <td>56.225000</td>\n",
       "      <td>76.099998</td>\n",
       "      <td>86.500000</td>\n",
       "    </tr>\n",
       "    <tr>\n",
       "      <th>5</th>\n",
       "      <td>1773</td>\n",
       "      <td>1</td>\n",
       "      <td>336400</td>\n",
       "      <td>309.964008</td>\n",
       "      <td>55.500000</td>\n",
       "      <td>259</td>\n",
       "      <td>189</td>\n",
       "      <td>1501703936</td>\n",
       "      <td>-1.000000</td>\n",
       "      <td>1502461798</td>\n",
       "      <td>59.900002</td>\n",
       "      <td>2446</td>\n",
       "      <td>56.360057</td>\n",
       "      <td>8.133111</td>\n",
       "      <td>-1.000000</td>\n",
       "      <td>77.000000</td>\n",
       "      <td>49.500000</td>\n",
       "      <td>55.700001</td>\n",
       "      <td>63.400002</td>\n",
       "    </tr>\n",
       "    <tr>\n",
       "      <th>6</th>\n",
       "      <td>2633</td>\n",
       "      <td>1</td>\n",
       "      <td>223409</td>\n",
       "      <td>264.482714</td>\n",
       "      <td>50.000000</td>\n",
       "      <td>172</td>\n",
       "      <td>108</td>\n",
       "      <td>1503575337</td>\n",
       "      <td>-1.000000</td>\n",
       "      <td>1504195020</td>\n",
       "      <td>49.400002</td>\n",
       "      <td>2344</td>\n",
       "      <td>51.154138</td>\n",
       "      <td>3.781348</td>\n",
       "      <td>-1.000000</td>\n",
       "      <td>63.900002</td>\n",
       "      <td>49.400002</td>\n",
       "      <td>50.299999</td>\n",
       "      <td>51.599998</td>\n",
       "    </tr>\n",
       "    <tr>\n",
       "      <th>7</th>\n",
       "      <td>1323</td>\n",
       "      <td>1</td>\n",
       "      <td>121187</td>\n",
       "      <td>184.887179</td>\n",
       "      <td>99.900002</td>\n",
       "      <td>256</td>\n",
       "      <td>977</td>\n",
       "      <td>1503897678</td>\n",
       "      <td>-1.000000</td>\n",
       "      <td>1504186102</td>\n",
       "      <td>99.900002</td>\n",
       "      <td>1561</td>\n",
       "      <td>86.632736</td>\n",
       "      <td>21.704380</td>\n",
       "      <td>-1.000000</td>\n",
       "      <td>99.900002</td>\n",
       "      <td>72.700001</td>\n",
       "      <td>99.900002</td>\n",
       "      <td>99.900002</td>\n",
       "    </tr>\n",
       "    <tr>\n",
       "      <th>8</th>\n",
       "      <td>2686</td>\n",
       "      <td>1</td>\n",
       "      <td>341</td>\n",
       "      <td>108.548684</td>\n",
       "      <td>65.099998</td>\n",
       "      <td>337</td>\n",
       "      <td>54</td>\n",
       "      <td>1503964139</td>\n",
       "      <td>64.400002</td>\n",
       "      <td>1504223896</td>\n",
       "      <td>60.400002</td>\n",
       "      <td>2394</td>\n",
       "      <td>63.743024</td>\n",
       "      <td>8.151720</td>\n",
       "      <td>40.000000</td>\n",
       "      <td>87.000000</td>\n",
       "      <td>61.299999</td>\n",
       "      <td>64.800003</td>\n",
       "      <td>69.325003</td>\n",
       "    </tr>\n",
       "    <tr>\n",
       "      <th>9</th>\n",
       "      <td>2681</td>\n",
       "      <td>1</td>\n",
       "      <td>479</td>\n",
       "      <td>108.518092</td>\n",
       "      <td>90.199997</td>\n",
       "      <td>435</td>\n",
       "      <td>33</td>\n",
       "      <td>1503960072</td>\n",
       "      <td>-1.000000</td>\n",
       "      <td>1504223988</td>\n",
       "      <td>74.900002</td>\n",
       "      <td>2433</td>\n",
       "      <td>77.257337</td>\n",
       "      <td>12.447034</td>\n",
       "      <td>-1.000000</td>\n",
       "      <td>94.599998</td>\n",
       "      <td>70.900002</td>\n",
       "      <td>80.699997</td>\n",
       "      <td>87.400002</td>\n",
       "    </tr>\n",
       "    <tr>\n",
       "      <th>10</th>\n",
       "      <td>966</td>\n",
       "      <td>1</td>\n",
       "      <td>489177</td>\n",
       "      <td>301.120384</td>\n",
       "      <td>99.900002</td>\n",
       "      <td>211</td>\n",
       "      <td>2059</td>\n",
       "      <td>1501545689</td>\n",
       "      <td>99.900002</td>\n",
       "      <td>1502361123</td>\n",
       "      <td>95.400002</td>\n",
       "      <td>2709</td>\n",
       "      <td>96.990625</td>\n",
       "      <td>7.918812</td>\n",
       "      <td>45.900002</td>\n",
       "      <td>99.900002</td>\n",
       "      <td>99.900002</td>\n",
       "      <td>99.900002</td>\n",
       "      <td>99.900002</td>\n",
       "    </tr>\n",
       "    <tr>\n",
       "      <th>11</th>\n",
       "      <td>2640</td>\n",
       "      <td>1</td>\n",
       "      <td>928</td>\n",
       "      <td>108.324754</td>\n",
       "      <td>69.900002</td>\n",
       "      <td>358</td>\n",
       "      <td>25</td>\n",
       "      <td>1503609572</td>\n",
       "      <td>64.400002</td>\n",
       "      <td>1503895766</td>\n",
       "      <td>78.000000</td>\n",
       "      <td>2643</td>\n",
       "      <td>68.624555</td>\n",
       "      <td>9.204847</td>\n",
       "      <td>46.099998</td>\n",
       "      <td>85.500000</td>\n",
       "      <td>61.000000</td>\n",
       "      <td>69.000000</td>\n",
       "      <td>77.500000</td>\n",
       "    </tr>\n",
       "    <tr>\n",
       "      <th>12</th>\n",
       "      <td>732</td>\n",
       "      <td>1</td>\n",
       "      <td>404</td>\n",
       "      <td>135.972857</td>\n",
       "      <td>95.400002</td>\n",
       "      <td>478</td>\n",
       "      <td>18</td>\n",
       "      <td>1501545688</td>\n",
       "      <td>73.599998</td>\n",
       "      <td>1501736050</td>\n",
       "      <td>95.300003</td>\n",
       "      <td>1401</td>\n",
       "      <td>63.650964</td>\n",
       "      <td>21.545323</td>\n",
       "      <td>24.900000</td>\n",
       "      <td>95.900002</td>\n",
       "      <td>41.700001</td>\n",
       "      <td>67.599998</td>\n",
       "      <td>79.699997</td>\n",
       "    </tr>\n",
       "    <tr>\n",
       "      <th>13</th>\n",
       "      <td>2652</td>\n",
       "      <td>1</td>\n",
       "      <td>619</td>\n",
       "      <td>222.815812</td>\n",
       "      <td>70.000000</td>\n",
       "      <td>362</td>\n",
       "      <td>31</td>\n",
       "      <td>1503702364</td>\n",
       "      <td>67.900002</td>\n",
       "      <td>1504223753</td>\n",
       "      <td>73.900002</td>\n",
       "      <td>2341</td>\n",
       "      <td>59.772234</td>\n",
       "      <td>10.695261</td>\n",
       "      <td>37.700001</td>\n",
       "      <td>75.699997</td>\n",
       "      <td>51.400002</td>\n",
       "      <td>61.700001</td>\n",
       "      <td>69.250000</td>\n",
       "    </tr>\n",
       "    <tr>\n",
       "      <th>14</th>\n",
       "      <td>1314</td>\n",
       "      <td>1</td>\n",
       "      <td>216935</td>\n",
       "      <td>1791.233242</td>\n",
       "      <td>82.000000</td>\n",
       "      <td>466</td>\n",
       "      <td>15</td>\n",
       "      <td>1501577454</td>\n",
       "      <td>53.599998</td>\n",
       "      <td>1504196237</td>\n",
       "      <td>93.199997</td>\n",
       "      <td>1463</td>\n",
       "      <td>63.144839</td>\n",
       "      <td>18.127531</td>\n",
       "      <td>30.000000</td>\n",
       "      <td>95.699997</td>\n",
       "      <td>46.400002</td>\n",
       "      <td>61.099998</td>\n",
       "      <td>79.800003</td>\n",
       "    </tr>\n",
       "    <tr>\n",
       "      <th>15</th>\n",
       "      <td>462</td>\n",
       "      <td>1</td>\n",
       "      <td>834148</td>\n",
       "      <td>444.909750</td>\n",
       "      <td>88.699997</td>\n",
       "      <td>381</td>\n",
       "      <td>29</td>\n",
       "      <td>1501545650</td>\n",
       "      <td>87.199997</td>\n",
       "      <td>1502649916</td>\n",
       "      <td>76.000000</td>\n",
       "      <td>2483</td>\n",
       "      <td>77.443979</td>\n",
       "      <td>11.865930</td>\n",
       "      <td>47.400002</td>\n",
       "      <td>94.599998</td>\n",
       "      <td>66.800003</td>\n",
       "      <td>82.500000</td>\n",
       "      <td>87.400002</td>\n",
       "    </tr>\n",
       "    <tr>\n",
       "      <th>16</th>\n",
       "      <td>1216</td>\n",
       "      <td>1</td>\n",
       "      <td>309</td>\n",
       "      <td>106.103604</td>\n",
       "      <td>94.199997</td>\n",
       "      <td>362</td>\n",
       "      <td>69</td>\n",
       "      <td>1503964855</td>\n",
       "      <td>-1.000000</td>\n",
       "      <td>1504223960</td>\n",
       "      <td>97.000000</td>\n",
       "      <td>2443</td>\n",
       "      <td>87.747646</td>\n",
       "      <td>11.755151</td>\n",
       "      <td>-1.000000</td>\n",
       "      <td>99.900002</td>\n",
       "      <td>85.699997</td>\n",
       "      <td>93.199997</td>\n",
       "      <td>94.599998</td>\n",
       "    </tr>\n",
       "    <tr>\n",
       "      <th>17</th>\n",
       "      <td>314</td>\n",
       "      <td>1</td>\n",
       "      <td>473</td>\n",
       "      <td>106.488474</td>\n",
       "      <td>61.700001</td>\n",
       "      <td>162</td>\n",
       "      <td>49</td>\n",
       "      <td>1504029923</td>\n",
       "      <td>63.299999</td>\n",
       "      <td>1504223945</td>\n",
       "      <td>70.099998</td>\n",
       "      <td>1823</td>\n",
       "      <td>64.328744</td>\n",
       "      <td>5.530173</td>\n",
       "      <td>52.799999</td>\n",
       "      <td>75.199997</td>\n",
       "      <td>60.299999</td>\n",
       "      <td>63.000000</td>\n",
       "      <td>69.099998</td>\n",
       "    </tr>\n",
       "    <tr>\n",
       "      <th>18</th>\n",
       "      <td>1099</td>\n",
       "      <td>1</td>\n",
       "      <td>315</td>\n",
       "      <td>107.714919</td>\n",
       "      <td>99.900002</td>\n",
       "      <td>536</td>\n",
       "      <td>137</td>\n",
       "      <td>1503932184</td>\n",
       "      <td>-1.000000</td>\n",
       "      <td>1504223876</td>\n",
       "      <td>96.699997</td>\n",
       "      <td>2709</td>\n",
       "      <td>78.218346</td>\n",
       "      <td>19.016770</td>\n",
       "      <td>-1.000000</td>\n",
       "      <td>99.900002</td>\n",
       "      <td>63.500000</td>\n",
       "      <td>86.800003</td>\n",
       "      <td>93.000000</td>\n",
       "    </tr>\n",
       "    <tr>\n",
       "      <th>19</th>\n",
       "      <td>2408</td>\n",
       "      <td>1</td>\n",
       "      <td>148</td>\n",
       "      <td>106.678072</td>\n",
       "      <td>49.599998</td>\n",
       "      <td>526</td>\n",
       "      <td>16</td>\n",
       "      <td>1501905944</td>\n",
       "      <td>80.699997</td>\n",
       "      <td>1502111726</td>\n",
       "      <td>25.700001</td>\n",
       "      <td>1930</td>\n",
       "      <td>57.978912</td>\n",
       "      <td>17.917319</td>\n",
       "      <td>24.600000</td>\n",
       "      <td>87.500000</td>\n",
       "      <td>43.000000</td>\n",
       "      <td>56.200001</td>\n",
       "      <td>74.400002</td>\n",
       "    </tr>\n",
       "    <tr>\n",
       "      <th>20</th>\n",
       "      <td>541</td>\n",
       "      <td>1</td>\n",
       "      <td>4957</td>\n",
       "      <td>112.643725</td>\n",
       "      <td>99.900002</td>\n",
       "      <td>520</td>\n",
       "      <td>956</td>\n",
       "      <td>1503945729</td>\n",
       "      <td>90.300003</td>\n",
       "      <td>1504223959</td>\n",
       "      <td>99.900002</td>\n",
       "      <td>2471</td>\n",
       "      <td>71.848442</td>\n",
       "      <td>27.224160</td>\n",
       "      <td>21.500000</td>\n",
       "      <td>99.900002</td>\n",
       "      <td>46.599998</td>\n",
       "      <td>72.400002</td>\n",
       "      <td>99.900002</td>\n",
       "    </tr>\n",
       "    <tr>\n",
       "      <th>21</th>\n",
       "      <td>971</td>\n",
       "      <td>1</td>\n",
       "      <td>153741</td>\n",
       "      <td>266.519244</td>\n",
       "      <td>99.900002</td>\n",
       "      <td>313</td>\n",
       "      <td>776</td>\n",
       "      <td>1503038940</td>\n",
       "      <td>-1.000000</td>\n",
       "      <td>1503419796</td>\n",
       "      <td>42.000000</td>\n",
       "      <td>1430</td>\n",
       "      <td>87.073148</td>\n",
       "      <td>19.391817</td>\n",
       "      <td>-1.000000</td>\n",
       "      <td>99.900002</td>\n",
       "      <td>77.900002</td>\n",
       "      <td>99.900002</td>\n",
       "      <td>99.900002</td>\n",
       "    </tr>\n",
       "    <tr>\n",
       "      <th>22</th>\n",
       "      <td>138</td>\n",
       "      <td>1</td>\n",
       "      <td>149</td>\n",
       "      <td>108.293228</td>\n",
       "      <td>1.000000</td>\n",
       "      <td>231</td>\n",
       "      <td>1001</td>\n",
       "      <td>1501545745</td>\n",
       "      <td>-1.000000</td>\n",
       "      <td>1501696056</td>\n",
       "      <td>1.000000</td>\n",
       "      <td>1389</td>\n",
       "      <td>12.189345</td>\n",
       "      <td>20.273741</td>\n",
       "      <td>-1.000000</td>\n",
       "      <td>81.500000</td>\n",
       "      <td>1.000000</td>\n",
       "      <td>1.000000</td>\n",
       "      <td>9.950000</td>\n",
       "    </tr>\n",
       "  </tbody>\n",
       "</table>\n",
       "</div>"
      ],
      "text/plain": [
       "    location  ts_time_min  ts_time_max  ts_time_mean    ts_mode  ts_unique  \\\n",
       "0       2662            1        14692    176.410194  34.500000        495   \n",
       "1       2683            1        46752    132.138105  87.699997        357   \n",
       "2       2682            1          528    116.768276  77.500000        471   \n",
       "3       2680            1        10955    100.226551  90.099998        573   \n",
       "4       2684            1          305    107.693768  90.000000        571   \n",
       "5       1773            1       336400    309.964008  55.500000        259   \n",
       "6       2633            1       223409    264.482714  50.000000        172   \n",
       "7       1323            1       121187    184.887179  99.900002        256   \n",
       "8       2686            1          341    108.548684  65.099998        337   \n",
       "9       2681            1          479    108.518092  90.199997        435   \n",
       "10       966            1       489177    301.120384  99.900002        211   \n",
       "11      2640            1          928    108.324754  69.900002        358   \n",
       "12       732            1          404    135.972857  95.400002        478   \n",
       "13      2652            1          619    222.815812  70.000000        362   \n",
       "14      1314            1       216935   1791.233242  82.000000        466   \n",
       "15       462            1       834148    444.909750  88.699997        381   \n",
       "16      1216            1          309    106.103604  94.199997        362   \n",
       "17       314            1          473    106.488474  61.700001        162   \n",
       "18      1099            1          315    107.714919  99.900002        536   \n",
       "19      2408            1          148    106.678072  49.599998        526   \n",
       "20       541            1         4957    112.643725  99.900002        520   \n",
       "21       971            1       153741    266.519244  99.900002        313   \n",
       "22       138            1          149    108.293228   1.000000        231   \n",
       "\n",
       "    ts_frequency  ts_first_time_tick  ts_first_value  ts_last_time_tick  \\\n",
       "0             19          1503834699       37.900002         1504198104   \n",
       "1             48          1503961757       -1.000000         1504223919   \n",
       "2             22          1503960326       -1.000000         1504223872   \n",
       "3             30          1503958922       -1.000000         1504223921   \n",
       "4             42          1503963045       89.900002         1504223987   \n",
       "5            189          1501703936       -1.000000         1502461798   \n",
       "6            108          1503575337       -1.000000         1504195020   \n",
       "7            977          1503897678       -1.000000         1504186102   \n",
       "8             54          1503964139       64.400002         1504223896   \n",
       "9             33          1503960072       -1.000000         1504223988   \n",
       "10          2059          1501545689       99.900002         1502361123   \n",
       "11            25          1503609572       64.400002         1503895766   \n",
       "12            18          1501545688       73.599998         1501736050   \n",
       "13            31          1503702364       67.900002         1504223753   \n",
       "14            15          1501577454       53.599998         1504196237   \n",
       "15            29          1501545650       87.199997         1502649916   \n",
       "16            69          1503964855       -1.000000         1504223960   \n",
       "17            49          1504029923       63.299999         1504223945   \n",
       "18           137          1503932184       -1.000000         1504223876   \n",
       "19            16          1501905944       80.699997         1502111726   \n",
       "20           956          1503945729       90.300003         1504223959   \n",
       "21           776          1503038940       -1.000000         1503419796   \n",
       "22          1001          1501545745       -1.000000         1501696056   \n",
       "\n",
       "    ts_last_value  ts_count  ts_num_mean  ts_num_std  ts_num_min  ts_num_max  \\\n",
       "0       50.700001      2061    50.948617   16.359299   27.299999   87.099998   \n",
       "1       89.599998      1985    81.485290   12.982737   -1.000000   94.800003   \n",
       "2       80.900002      2258    66.481222   16.624317   -1.000000   92.800003   \n",
       "3       92.800003      2645    64.734253   22.673204   -1.000000   92.900002   \n",
       "4       93.000000      2424    69.974340   19.957587   23.900000   93.400002   \n",
       "5       59.900002      2446    56.360057    8.133111   -1.000000   77.000000   \n",
       "6       49.400002      2344    51.154138    3.781348   -1.000000   63.900002   \n",
       "7       99.900002      1561    86.632736   21.704380   -1.000000   99.900002   \n",
       "8       60.400002      2394    63.743024    8.151720   40.000000   87.000000   \n",
       "9       74.900002      2433    77.257337   12.447034   -1.000000   94.599998   \n",
       "10      95.400002      2709    96.990625    7.918812   45.900002   99.900002   \n",
       "11      78.000000      2643    68.624555    9.204847   46.099998   85.500000   \n",
       "12      95.300003      1401    63.650964   21.545323   24.900000   95.900002   \n",
       "13      73.900002      2341    59.772234   10.695261   37.700001   75.699997   \n",
       "14      93.199997      1463    63.144839   18.127531   30.000000   95.699997   \n",
       "15      76.000000      2483    77.443979   11.865930   47.400002   94.599998   \n",
       "16      97.000000      2443    87.747646   11.755151   -1.000000   99.900002   \n",
       "17      70.099998      1823    64.328744    5.530173   52.799999   75.199997   \n",
       "18      96.699997      2709    78.218346   19.016770   -1.000000   99.900002   \n",
       "19      25.700001      1930    57.978912   17.917319   24.600000   87.500000   \n",
       "20      99.900002      2471    71.848442   27.224160   21.500000   99.900002   \n",
       "21      42.000000      1430    87.073148   19.391817   -1.000000   99.900002   \n",
       "22       1.000000      1389    12.189345   20.273741   -1.000000   81.500000   \n",
       "\n",
       "    ts_num_25  ts_num_50  ts_num_75  \n",
       "0   36.500000  48.099998  63.099998  \n",
       "1   80.300003  86.199997  89.300003  \n",
       "2   48.400002  71.400002  80.000000  \n",
       "3   44.799999  69.199997  86.199997  \n",
       "4   56.225000  76.099998  86.500000  \n",
       "5   49.500000  55.700001  63.400002  \n",
       "6   49.400002  50.299999  51.599998  \n",
       "7   72.700001  99.900002  99.900002  \n",
       "8   61.299999  64.800003  69.325003  \n",
       "9   70.900002  80.699997  87.400002  \n",
       "10  99.900002  99.900002  99.900002  \n",
       "11  61.000000  69.000000  77.500000  \n",
       "12  41.700001  67.599998  79.699997  \n",
       "13  51.400002  61.700001  69.250000  \n",
       "14  46.400002  61.099998  79.800003  \n",
       "15  66.800003  82.500000  87.400002  \n",
       "16  85.699997  93.199997  94.599998  \n",
       "17  60.299999  63.000000  69.099998  \n",
       "18  63.500000  86.800003  93.000000  \n",
       "19  43.000000  56.200001  74.400002  \n",
       "20  46.599998  72.400002  99.900002  \n",
       "21  77.900002  99.900002  99.900002  \n",
       "22   1.000000   1.000000   9.950000  "
      ]
     },
     "execution_count": 34,
     "metadata": {},
     "output_type": "execute_result"
    }
   ],
   "source": [
    "eventSession.sql(\"SELECT location, TS_DESCRIBE(ts) FROM dht_no_nulls\").toPandas()"
   ]
  },
  {
   "cell_type": "code",
   "execution_count": 35,
   "metadata": {
    "collapsed": false,
    "deletable": true,
    "editable": true
   },
   "outputs": [
    {
     "name": "stdout",
     "output_type": "stream",
     "text": [
      "--2019-07-26 02:48:11--  http://daas.res.ibm.com/~mudhakar/timeseries_staging/time-series-assembly-1.0.0-jar-with-dependencies.jar\n",
      "Resolving daas.res.ibm.com (daas.res.ibm.com)... 173.192.226.22\n",
      "Connecting to daas.res.ibm.com (daas.res.ibm.com)|173.192.226.22|:80... connected.\n",
      "HTTP request sent, awaiting response... 200 OK\n",
      "Length: 13506196 (13M) [application/x-java-archive]\n",
      "Saving to: ‘./time-series-assembly-1.0.0-jar-with-dependencies.jar’\n",
      "\n",
      "./time-series-assem 100%[=====================>]  12.88M  2.27MB/s   in 6.9s   \n",
      "\n",
      "2019-07-26 02:48:18 (1.86 MB/s) - ‘./time-series-assembly-1.0.0-jar-with-dependencies.jar’ saved [13506196/13506196]\n",
      "\n",
      "--2019-07-26 02:48:22--  http://daas.res.ibm.com/~mudhakar/timeseries_staging/sparktspy-0.0.0.0.tar.gz\n",
      "Resolving daas.res.ibm.com (daas.res.ibm.com)... 173.192.226.22\n",
      "Connecting to daas.res.ibm.com (daas.res.ibm.com)|173.192.226.22|:80... connected.\n",
      "HTTP request sent, awaiting response... 200 OK\n",
      "Length: 8797 (8.6K) [application/x-gzip]\n",
      "Saving to: ‘./sparktspy-0.0.0.0.tar.gz’\n",
      "\n",
      "./sparktspy-0.0.0.0 100%[=====================>]   8.59K  --.-KB/s   in 0.01s  \n",
      "\n",
      "2019-07-26 02:48:22 (626 KB/s) - ‘./sparktspy-0.0.0.0.tar.gz’ saved [8797/8797]\n",
      "\n",
      "--2019-07-26 02:48:26--  http://daas.res.ibm.com/~mudhakar/timeseries_staging/tspy-0.0.0.0.tar.gz\n",
      "Resolving daas.res.ibm.com (daas.res.ibm.com)... 173.192.226.22\n",
      "Connecting to daas.res.ibm.com (daas.res.ibm.com)|173.192.226.22|:80... connected.\n",
      "HTTP request sent, awaiting response... 200 OK\n",
      "Length: 34096 (33K) [application/x-gzip]\n",
      "Saving to: ‘./tspy-0.0.0.0.tar.gz’\n",
      "\n",
      "./tspy-0.0.0.0.tar. 100%[=====================>]  33.30K  --.-KB/s   in 0.04s  \n",
      "\n",
      "2019-07-26 02:48:27 (808 KB/s) - ‘./tspy-0.0.0.0.tar.gz’ saved [34096/34096]\n",
      "\n",
      "--2019-07-26 02:48:31--  http://daas.res.ibm.com/~mudhakar/timeseries/py4j-0.10.8.1.jar\n",
      "Resolving daas.res.ibm.com (daas.res.ibm.com)... 173.192.226.22\n",
      "Connecting to daas.res.ibm.com (daas.res.ibm.com)|173.192.226.22|:80... connected.\n",
      "HTTP request sent, awaiting response... 200 OK\n",
      "Length: 122939 (120K) [application/x-java-archive]\n",
      "Saving to: ‘./py4j-0.10.8.1.jar’\n",
      "\n",
      "./py4j-0.10.8.1.jar 100%[=====================>] 120.06K  --.-KB/s   in 0.08s  \n",
      "\n",
      "2019-07-26 02:48:31 (1.49 MB/s) - ‘./py4j-0.10.8.1.jar’ saved [122939/122939]\n",
      "\n"
     ]
    }
   ],
   "source": [
    "!wget --no-check-certificate http://daas.res.ibm.com/~mudhakar/timeseries_staging/time-series-assembly-1.0.0-jar-with-dependencies.jar -O ./time-series-assembly-1.0.0-jar-with-dependencies.jar\n",
    "!wget --no-check-certificate http://daas.res.ibm.com/~mudhakar/timeseries_staging/sparktspy-0.0.0.0.tar.gz -O ./sparktspy-0.0.0.0.tar.gz\n",
    "!wget --no-check-certificate http://daas.res.ibm.com/~mudhakar/timeseries_staging/tspy-0.0.0.0.tar.gz -O ./tspy-0.0.0.0.tar.gz\n",
    "!wget --no-check-certificate http://daas.res.ibm.com/~mudhakar/timeseries/py4j-0.10.8.1.jar -O ./py4j-0.10.8.1.jar"
   ]
  },
  {
   "cell_type": "code",
   "execution_count": 36,
   "metadata": {
    "collapsed": false,
    "deletable": true,
    "editable": true
   },
   "outputs": [
    {
     "name": "stdout",
     "output_type": "stream",
     "text": [
      "Processing ./tspy-0.0.0.0.tar.gz\n",
      "Collecting pytz (from tspy==0.0.0.0)\n",
      "  Using cached https://files.pythonhosted.org/packages/3d/73/fe30c2daaaa0713420d0382b16fbb761409f532c56bdcc514bf7b6262bb6/pytz-2019.1-py2.py3-none-any.whl\n",
      "Building wheels for collected packages: tspy\n",
      "  Building wheel for tspy (setup.py) ... \u001b[?25l-\b \b\\\b \b|\b \b/\b \b-\b \b\\\b \bdone\n",
      "\u001b[?25h  Stored in directory: /user-home/999/.cache/pip/wheels/ba/f3/cd/39efbcbaa0caed7b3790fb0b358f3a033d440a3e76f41df0a8\n",
      "Successfully built tspy\n",
      "\u001b[31msparkmagic 0.12.7 has requirement ipykernel<5,>=4.2.2, but you'll have ipykernel 5.1.0 which is incompatible.\u001b[0m\n",
      "Installing collected packages: pytz, tspy\n",
      "Successfully installed pytz-2019.1 tspy-0.0.0.0\n",
      "\u001b[33mYou are using pip version 19.0.3, however version 19.1.1 is available.\n",
      "You should consider upgrading via the 'pip install --upgrade pip' command.\u001b[0m\n",
      "Processing ./sparktspy-0.0.0.0.tar.gz\n",
      "Building wheels for collected packages: sparktspy\n",
      "  Building wheel for sparktspy (setup.py) ... \u001b[?25l-\b \b\\\b \b|\b \b/\b \b-\b \bdone\n",
      "\u001b[?25h  Stored in directory: /user-home/999/.cache/pip/wheels/9e/5e/41/bfce6fd83dde0ada00a05965a18d856bebbced24ff268c4494\n",
      "Successfully built sparktspy\n",
      "Installing collected packages: sparktspy\n",
      "Successfully installed sparktspy-0.0.0.0\n",
      "\u001b[33mYou are using pip version 19.0.3, however version 19.1.1 is available.\n",
      "You should consider upgrading via the 'pip install --upgrade pip' command.\u001b[0m\n"
     ]
    }
   ],
   "source": [
    "!pip install -I tspy-0.0.0.0.tar.gz\n",
    "!pip install -I sparktspy-0.0.0.0.tar.gz"
   ]
  },
  {
   "cell_type": "code",
   "execution_count": 37,
   "metadata": {
    "collapsed": false,
    "deletable": true,
    "editable": true
   },
   "outputs": [
    {
     "name": "stdout",
     "output_type": "stream",
     "text": [
      "env: TMPDIR=/tmp/\n",
      "env: TS_HOME=./time-series-assembly-1.0.0-jar-with-dependencies.jar\n",
      "env: PY4J_PATH=./py4j-0.10.8.1.jar\n"
     ]
    }
   ],
   "source": [
    "from tspy import TSContext\n",
    "%env TMPDIR=/tmp/\n",
    "%env TS_HOME=./time-series-assembly-1.0.0-jar-with-dependencies.jar\n",
    "%env PY4J_PATH=./py4j-0.10.8.1.jar\n",
    "tsc = TSContext(always_on_caching=True)\n",
    "# tsc.stop()"
   ]
  },
  {
   "cell_type": "code",
   "execution_count": 38,
   "metadata": {
    "collapsed": false,
    "deletable": true,
    "editable": true
   },
   "outputs": [],
   "source": [
    "df = eventSession.sql(\"select * from sds_exploded\").toPandas()"
   ]
  },
  {
   "cell_type": "code",
   "execution_count": 39,
   "metadata": {
    "collapsed": false,
    "deletable": true,
    "editable": true
   },
   "outputs": [
    {
     "data": {
      "text/html": [
       "<div>\n",
       "<style>\n",
       "    .dataframe thead tr:only-child th {\n",
       "        text-align: right;\n",
       "    }\n",
       "\n",
       "    .dataframe thead th {\n",
       "        text-align: left;\n",
       "    }\n",
       "\n",
       "    .dataframe tbody tr th {\n",
       "        vertical-align: top;\n",
       "    }\n",
       "</style>\n",
       "<table border=\"1\" class=\"dataframe\">\n",
       "  <thead>\n",
       "    <tr style=\"text-align: right;\">\n",
       "      <th></th>\n",
       "      <th>location</th>\n",
       "      <th>ts_timeTick</th>\n",
       "      <th>ts_value</th>\n",
       "    </tr>\n",
       "  </thead>\n",
       "  <tbody>\n",
       "    <tr>\n",
       "      <th>0</th>\n",
       "      <td>2662</td>\n",
       "      <td>1503834699</td>\n",
       "      <td>5.33</td>\n",
       "    </tr>\n",
       "    <tr>\n",
       "      <th>1</th>\n",
       "      <td>2662</td>\n",
       "      <td>1503834845</td>\n",
       "      <td>4.53</td>\n",
       "    </tr>\n",
       "    <tr>\n",
       "      <th>2</th>\n",
       "      <td>2662</td>\n",
       "      <td>1503834846</td>\n",
       "      <td>4.53</td>\n",
       "    </tr>\n",
       "    <tr>\n",
       "      <th>3</th>\n",
       "      <td>2662</td>\n",
       "      <td>1503834992</td>\n",
       "      <td>4.00</td>\n",
       "    </tr>\n",
       "    <tr>\n",
       "      <th>4</th>\n",
       "      <td>2662</td>\n",
       "      <td>1503835139</td>\n",
       "      <td>4.73</td>\n",
       "    </tr>\n",
       "  </tbody>\n",
       "</table>\n",
       "</div>"
      ],
      "text/plain": [
       "   location  ts_timeTick  ts_value\n",
       "0      2662   1503834699      5.33\n",
       "1      2662   1503834845      4.53\n",
       "2      2662   1503834846      4.53\n",
       "3      2662   1503834992      4.00\n",
       "4      2662   1503835139      4.73"
      ]
     },
     "execution_count": 39,
     "metadata": {},
     "output_type": "execute_result"
    }
   ],
   "source": [
    "df.head()"
   ]
  },
  {
   "cell_type": "code",
   "execution_count": 40,
   "metadata": {
    "collapsed": false,
    "deletable": true,
    "editable": true
   },
   "outputs": [],
   "source": [
    "mts = tsc.multi_time_series.df_observations(df, \"location\", \"ts_timeTick\", \"ts_value\")"
   ]
  },
  {
   "cell_type": "markdown",
   "metadata": {
    "deletable": true,
    "editable": true
   },
   "source": [
    "## Get The Z-Normalized monthly average of each TimeSeries"
   ]
  },
  {
   "cell_type": "code",
   "execution_count": 41,
   "metadata": {
    "collapsed": false,
    "deletable": true,
    "editable": true
   },
   "outputs": [],
   "source": [
    "import math\n",
    "hourly_collected = mts.segment_series_by_time(3600, 3600) \\\n",
    "    .transform_series(tsc.math_reducers.average()) \\\n",
    "    .map_series_value(lambda x: 0.0 if math.isnan(x) else x) \\\n",
    "    .get_values(1501545600, 1504137600)\n",
    "hourly_mts = tsc.multi_time_series.dict(hourly_collected)\n",
    "zscore_mts = hourly_mts.transform_series(tsc.math_transforms.z_score()) "
   ]
  },
  {
   "cell_type": "code",
   "execution_count": 42,
   "metadata": {
    "collapsed": true,
    "deletable": true,
    "editable": true
   },
   "outputs": [],
   "source": [
    "# stmt = \"\"\"\n",
    "#     SELECT location,\n",
    "#         TS_ZSCORE(\n",
    "#             TS_SLICE(\n",
    "#                 TS_FILLNA(\n",
    "#                     TS_SEG_SUM(\n",
    "#                         TS_SEGMENT_BY_TIME(ts, TS_HOURS(1), TS_HOURS(1))\n",
    "#                     ), \n",
    "#                     TS_INTERPOLATOR_NEAREST()\n",
    "#                 ),\n",
    "#                 TS_DATE(2017,8,1),\n",
    "#                 TS_DATE(2017,9,1)\n",
    "#             ),\n",
    "#             50.0,\n",
    "#             .01\n",
    "#         ) as z_norm_ts\n",
    "#         FROM sds_no_nulls\n",
    "# \"\"\"\n",
    "# eventSession.sql(stmt).createOrReplaceTempView(\"z_norm_table\")\n",
    "# eventSession.sql(\"select location, TS_EXPLODE(z_norm_ts) from z_norm_table\").show()"
   ]
  },
  {
   "cell_type": "code",
   "execution_count": 43,
   "metadata": {
    "collapsed": false,
    "deletable": true,
    "editable": true
   },
   "outputs": [],
   "source": [
    "# df = eventSession.sql(\"select location, TS_EXPLODE(z_norm_ts) from z_norm_table\").toPandas()\n",
    "# zscore_mts = tsc.multi_time_series.df_observations(df, \"location\", \"z_norm_ts_timestamp\", \"z_norm_ts_value\")"
   ]
  },
  {
   "cell_type": "code",
   "execution_count": 44,
   "metadata": {
    "collapsed": false,
    "deletable": true,
    "editable": true
   },
   "outputs": [
    {
     "name": "stdout",
     "output_type": "stream",
     "text": [
      "{'2682': 721, '2681': 721, '2633': 721, '541': 721, '2684': 721, '1216': 721, '2408': 721, '462': 721, '2680': 721, '314': 721, '1773': 721, '1099': 721, '2686': 721, '2662': 721, '1314': 721, '966': 721, '2652': 721, '971': 721, '1323': 721, '2683': 721, '732': 721, '138': 721, '2640': 721}\n"
     ]
    }
   ],
   "source": [
    "# zscore_mts.print()\n",
    "print(zscore_mts.reduce_series(lambda x: x.count()))"
   ]
  },
  {
   "cell_type": "markdown",
   "metadata": {
    "deletable": true,
    "editable": true
   },
   "source": [
    "## Perform KShape clustering on the z-normalized monthly average MultiTimeSeries"
   ]
  },
  {
   "cell_type": "code",
   "execution_count": 45,
   "metadata": {
    "collapsed": false,
    "deletable": true,
    "editable": true
   },
   "outputs": [],
   "source": [
    "from tspy.ml.clustering import KShape\n",
    "\n",
    "k_clusters = 3\n",
    "num_runs = 30\n",
    "\n",
    "model = KShape.run(zscore_mts, k_clusters, num_runs)"
   ]
  },
  {
   "cell_type": "markdown",
   "metadata": {
    "collapsed": true,
    "deletable": true,
    "editable": true
   },
   "source": [
    "## Display Representative clusters"
   ]
  },
  {
   "cell_type": "code",
   "execution_count": 46,
   "metadata": {
    "collapsed": false,
    "deletable": true,
    "editable": true
   },
   "outputs": [
    {
     "name": "stdout",
     "output_type": "stream",
     "text": [
      "{'2682': 2, '2681': 0, '1216': 2, '541': 0, '2684': 0, '2633': 2, '2408': 0, '462': 0, '2680': 0, '314': 2, '1773': 2, '1099': 0, '2686': 0, '2662': 0, '1314': 2, '966': 0, '2652': 0, '971': 2, '1323': 2, '2683': 0, '732': 0, '138': 0, '2640': 0}\n"
     ]
    }
   ],
   "source": [
    "print({k: model.score(observations) for k, observations in zscore_mts.collect_as_map().items()})"
   ]
  },
  {
   "cell_type": "code",
   "execution_count": 47,
   "metadata": {
    "collapsed": false,
    "deletable": true,
    "editable": true
   },
   "outputs": [
    {
     "name": "stdout",
     "output_type": "stream",
     "text": [
      "Pixiedust database opened successfully\n"
     ]
    },
    {
     "data": {
      "text/html": [
       "\n",
       "        <div style=\"margin:10px\">\n",
       "            <a href=\"https://github.com/ibm-watson-data-lab/pixiedust\" target=\"_new\">\n",
       "                <img src=\"https://github.com/ibm-watson-data-lab/pixiedust/raw/master/docs/_static/pd_icon32.png\" style=\"float:left;margin-right:10px\"/>\n",
       "            </a>\n",
       "            <span>Pixiedust version 1.1.11</span>\n",
       "        </div>\n",
       "        "
      ],
      "text/plain": [
       "<IPython.core.display.HTML object>"
      ]
     },
     "metadata": {},
     "output_type": "display_data"
    },
    {
     "data": {
      "text/html": [
       "<div>Warning: You are not running the latest version of PixieDust. Current is 1.1.11, Latest is 1.1.17</div>"
      ],
      "text/plain": [
       "<IPython.core.display.HTML object>"
      ]
     },
     "metadata": {},
     "output_type": "display_data"
    },
    {
     "data": {
      "text/html": [
       "\n",
       "                <div>Please copy and run the following command in a new cell to upgrade: <span style=\"background-color:#ececec;font-family:monospace;padding:0 5px\">!pip install --user --upgrade pixiedust</span></div>\n",
       "            "
      ],
      "text/plain": [
       "<IPython.core.display.HTML object>"
      ]
     },
     "metadata": {},
     "output_type": "display_data"
    },
    {
     "data": {
      "text/html": [
       "<div>Please restart kernel after upgrading.</div>"
      ],
      "text/plain": [
       "<IPython.core.display.HTML object>"
      ]
     },
     "metadata": {},
     "output_type": "display_data"
    }
   ],
   "source": [
    "import pixiedust"
   ]
  },
  {
   "cell_type": "code",
   "execution_count": 48,
   "metadata": {
    "collapsed": true
   },
   "outputs": [],
   "source": [
    "centroids_mts = tsc.multi_time_series.dict(model.centroids)\n",
    "centroids_df = centroids_mts.to_df_instants()"
   ]
  },
  {
   "cell_type": "code",
   "execution_count": 49,
   "metadata": {
    "collapsed": false,
    "deletable": true,
    "editable": true,
    "pixiedust": {
     "displayParams": {
      "handlerId": "lineChart",
      "keyFields": "timestamp",
      "timeseries": "false",
      "valueFields": "0,1,2"
     }
    }
   },
   "outputs": [
    {
     "data": {
      "text/html": [
       "<style type=\"text/css\">.pd_warning{display:none;}</style><div class=\"pd_warning\"><em>Hey, there's something awesome here! To see it, open this notebook outside GitHub, in a viewer like Jupyter</em></div>\n",
       "        <div class=\"pd_save is-viewer-good\" style=\"padding-right:10px;text-align: center;line-height:initial !important;font-size: xx-large;font-weight: 500;color: coral;\">\n",
       "            \n",
       "        </div>\n",
       "    <div id=\"chartFigure6af33565\" class=\"pd_save is-viewer-good\" style=\"overflow-x:auto\">\n",
       "            \n",
       "                    \n",
       "                            <center><img style=\"max-width:initial !important\" src=\"data:image/png;base64,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\" class=\"pd_save\"></center>\n",
       "                        \n",
       "                    \n",
       "                \n",
       "        </div>"
      ],
      "text/plain": [
       "<IPython.core.display.HTML object>"
      ]
     },
     "metadata": {},
     "output_type": "display_data"
    }
   ],
   "source": [
    "display(centroids_df)"
   ]
  },
  {
   "cell_type": "code",
   "execution_count": 50,
   "metadata": {
    "collapsed": false,
    "deletable": true,
    "editable": true,
    "scrolled": false
   },
   "outputs": [
    {
     "data": {
      "text/html": [
       "<div>\n",
       "<style>\n",
       "    .dataframe thead tr:only-child th {\n",
       "        text-align: right;\n",
       "    }\n",
       "\n",
       "    .dataframe thead th {\n",
       "        text-align: left;\n",
       "    }\n",
       "\n",
       "    .dataframe tbody tr th {\n",
       "        vertical-align: top;\n",
       "    }\n",
       "</style>\n",
       "<table border=\"1\" class=\"dataframe\">\n",
       "  <thead>\n",
       "    <tr style=\"text-align: right;\">\n",
       "      <th></th>\n",
       "      <th>timestamp</th>\n",
       "      <th>0</th>\n",
       "      <th>1</th>\n",
       "      <th>2</th>\n",
       "    </tr>\n",
       "  </thead>\n",
       "  <tbody>\n",
       "    <tr>\n",
       "      <th>0</th>\n",
       "      <td>0</td>\n",
       "      <td>-0.009352</td>\n",
       "      <td>0.008399</td>\n",
       "      <td>-0.011995</td>\n",
       "    </tr>\n",
       "    <tr>\n",
       "      <th>1</th>\n",
       "      <td>1</td>\n",
       "      <td>-0.009352</td>\n",
       "      <td>0.008399</td>\n",
       "      <td>-0.003908</td>\n",
       "    </tr>\n",
       "    <tr>\n",
       "      <th>2</th>\n",
       "      <td>2</td>\n",
       "      <td>-0.009352</td>\n",
       "      <td>0.008399</td>\n",
       "      <td>-0.011995</td>\n",
       "    </tr>\n",
       "    <tr>\n",
       "      <th>3</th>\n",
       "      <td>3</td>\n",
       "      <td>-0.009352</td>\n",
       "      <td>0.008399</td>\n",
       "      <td>-0.011995</td>\n",
       "    </tr>\n",
       "    <tr>\n",
       "      <th>4</th>\n",
       "      <td>4</td>\n",
       "      <td>-0.009352</td>\n",
       "      <td>0.010015</td>\n",
       "      <td>-0.011995</td>\n",
       "    </tr>\n",
       "  </tbody>\n",
       "</table>\n",
       "</div>"
      ],
      "text/plain": [
       "   timestamp         0         1         2\n",
       "0          0 -0.009352  0.008399 -0.011995\n",
       "1          1 -0.009352  0.008399 -0.003908\n",
       "2          2 -0.009352  0.008399 -0.011995\n",
       "3          3 -0.009352  0.008399 -0.011995\n",
       "4          4 -0.009352  0.010015 -0.011995"
      ]
     },
     "execution_count": 50,
     "metadata": {},
     "output_type": "execute_result"
    }
   ],
   "source": [
    "centroids_df.head()"
   ]
  },
  {
   "cell_type": "code",
   "execution_count": 51,
   "metadata": {
    "collapsed": false,
    "deletable": true,
    "editable": true
   },
   "outputs": [
    {
     "name": "stdout",
     "output_type": "stream",
     "text": [
      "+--------------------+\n",
      "|                 dht|\n",
      "+--------------------+\n",
      "|[(1501545650,87.1...|\n",
      "+--------------------+\n",
      "\n"
     ]
    }
   ],
   "source": [
    "import time\n",
    "\n",
    "stmt = \"SELECT TIME_SERIES(timestamp, humidity) AS dht FROM dht_raw_table\"\n",
    "\n",
    "df = eventSession.sql(stmt)\n",
    "df.cache()\n",
    "df.createOrReplaceTempView(\"table_a\")\n",
    "start = time.time()\n",
    "df.show()\n",
    "end = time.time()"
   ]
  },
  {
   "cell_type": "code",
   "execution_count": 52,
   "metadata": {
    "collapsed": false,
    "deletable": true,
    "editable": true
   },
   "outputs": [
    {
     "name": "stdout",
     "output_type": "stream",
     "text": [
      "ingestion time: 699.7081711292267 seconds\n"
     ]
    }
   ],
   "source": [
    "total_time = end - start\n",
    "print(\"ingestion time: \" + str(total_time) + \" seconds\")"
   ]
  },
  {
   "cell_type": "code",
   "execution_count": 53,
   "metadata": {
    "collapsed": false,
    "deletable": true,
    "editable": true
   },
   "outputs": [
    {
     "name": "stdout",
     "output_type": "stream",
     "text": [
      "+--------------------+\n",
      "|          dht_interp|\n",
      "+--------------------+\n",
      "|[(1501545600,0.0)...|\n",
      "+--------------------+\n",
      "\n"
     ]
    }
   ],
   "source": [
    "stmt = \"SELECT TS_RESAMPLE(dht, 3600, TS_INTERPOLATOR_NEAREST(0.0)) as dht_interp from table_a\"\n",
    "start = time.time()\n",
    "eventSession.sql(stmt).show()\n",
    "end = time.time()"
   ]
  },
  {
   "cell_type": "code",
   "execution_count": 54,
   "metadata": {
    "collapsed": false,
    "deletable": true,
    "editable": true
   },
   "outputs": [
    {
     "name": "stdout",
     "output_type": "stream",
     "text": [
      "ingestion time: 3.079747200012207 seconds\n"
     ]
    }
   ],
   "source": [
    "total_time = end - start\n",
    "print(\"ingestion time: \" + str(total_time) + \" seconds\")"
   ]
  },
  {
   "cell_type": "code",
   "execution_count": 55,
   "metadata": {
    "collapsed": false,
    "deletable": true,
    "editable": true
   },
   "outputs": [
    {
     "name": "stdout",
     "output_type": "stream",
     "text": [
      "+--------+\n",
      "|count(1)|\n",
      "+--------+\n",
      "|   41569|\n",
      "+--------+\n",
      "\n"
     ]
    }
   ],
   "source": [
    "stmt = \"select count(*) from (SELECT TS_EXPLODE(dht) from table_a)\"\n",
    "start = time.time()\n",
    "eventSession.sql(stmt).show()\n",
    "end = time.time()"
   ]
  },
  {
   "cell_type": "code",
   "execution_count": 56,
   "metadata": {
    "collapsed": false,
    "deletable": true,
    "editable": true
   },
   "outputs": [
    {
     "name": "stdout",
     "output_type": "stream",
     "text": [
      "ingestion time: 0.6954050064086914 seconds\n"
     ]
    }
   ],
   "source": [
    "total_time = end - start\n",
    "print(\"ingestion time: \" + str(total_time) + \" seconds\")"
   ]
  },
  {
   "cell_type": "code",
   "execution_count": null,
   "metadata": {
    "collapsed": true
   },
   "outputs": [],
   "source": []
  }
 ],
 "metadata": {
  "kernelspec": {
   "display_name": "Python3.5",
   "language": "python",
   "name": "py3localspark"
  },
  "language_info": {
   "codemirror_mode": {
    "name": "ipython",
    "version": 3
   },
   "file_extension": ".py",
   "mimetype": "text/x-python",
   "name": "python",
   "nbconvert_exporter": "python",
   "pygments_lexer": "ipython3",
   "version": "3.5.5"
  }
 },
 "nbformat": 4,
 "nbformat_minor": 2
}
